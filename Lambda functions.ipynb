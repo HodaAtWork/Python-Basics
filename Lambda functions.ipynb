{
 "cells": [
  {
   "cell_type": "markdown",
   "metadata": {},
   "source": [
    "# Lambda function\n",
    "A `lambda` function or expression is a concise way to achieve the same as functions. Just like list comprehensions are to lists. A `lambda` function has no name but consists of:\n",
    "* keyword `lambda`\n",
    "* bound variables (>= 1 argument to the lambda function)\n",
    "* body\n",
    "\n",
    "Lambda functions are frequently encountered in datascience code."
   ]
  },
  {
   "cell_type": "markdown",
   "metadata": {},
   "source": [
    "## Immediately invoked"
   ]
  },
  {
   "cell_type": "code",
   "execution_count": 1,
   "metadata": {},
   "outputs": [
    {
     "data": {
      "text/plain": [
       "5"
      ]
     },
     "execution_count": 1,
     "metadata": {},
     "output_type": "execute_result"
    }
   ],
   "source": [
    "(lambda x, y: x + y)(2, 3)"
   ]
  },
  {
   "cell_type": "markdown",
   "metadata": {},
   "source": [
    "## Named invocation\n",
    "Code in cell below similar to function:\n",
    "```python\n",
    "def add(x, y):\n",
    "    return x + y\n",
    "```"
   ]
  },
  {
   "cell_type": "code",
   "execution_count": 2,
   "metadata": {},
   "outputs": [
    {
     "data": {
      "text/plain": [
       "5"
      ]
     },
     "execution_count": 2,
     "metadata": {},
     "output_type": "execute_result"
    }
   ],
   "source": [
    "add = lambda x, y: x + y\n",
    "add(2, 3)"
   ]
  },
  {
   "cell_type": "code",
   "execution_count": 3,
   "metadata": {},
   "outputs": [
    {
     "name": "stdout",
     "output_type": "stream",
     "text": [
      "This is\n",
      "quite interesting\n",
      "isn't it\n",
      "Henry?\n",
      "Indeed\n",
      "it sure is\n"
     ]
    },
    {
     "data": {
      "text/plain": [
       "\"This is quite interesting isn't it Henry? Indeed it sure is\""
      ]
     },
     "execution_count": 3,
     "metadata": {},
     "output_type": "execute_result"
    }
   ],
   "source": [
    "# convert newlines to spaces\n",
    "rem_nl = lambda s: s.replace(\"\\n\", \" \")\n",
    "str='''This is\\nquite interesting\\nisn't it\\nHenry?\\nIndeed\\nit sure is'''\n",
    "print(str)\n",
    "rem_nl(str)"
   ]
  },
  {
   "cell_type": "markdown",
   "metadata": {},
   "source": [
    "### Named invocation - High order"
   ]
  },
  {
   "cell_type": "code",
   "execution_count": 4,
   "metadata": {},
   "outputs": [
    {
     "data": {
      "text/plain": [
       "13"
      ]
     },
     "execution_count": 4,
     "metadata": {},
     "output_type": "execute_result"
    }
   ],
   "source": [
    "highOrderFunction = lambda x, func: x + func(x)\n",
    "highOrderFunction(4, lambda x: x + 5) # expected 13\n"
   ]
  },
  {
   "cell_type": "code",
   "execution_count": 5,
   "metadata": {},
   "outputs": [
    {
     "data": {
      "text/plain": [
       "24"
      ]
     },
     "execution_count": 5,
     "metadata": {},
     "output_type": "execute_result"
    }
   ],
   "source": [
    "highOrderFunction(4, lambda x: x * 5) # expected 24"
   ]
  },
  {
   "cell_type": "markdown",
   "metadata": {},
   "source": [
    "## Lambda and Pandas\n",
    "In datascience operations `lambda` functions can be applied to Pandas dataframes on both rows and columns. A small example on a column using `df.assign()`:"
   ]
  },
  {
   "cell_type": "code",
   "execution_count": 6,
   "metadata": {},
   "outputs": [
    {
     "data": {
      "text/html": [
       "<div>\n",
       "<style scoped>\n",
       "    .dataframe tbody tr th:only-of-type {\n",
       "        vertical-align: middle;\n",
       "    }\n",
       "\n",
       "    .dataframe tbody tr th {\n",
       "        vertical-align: top;\n",
       "    }\n",
       "\n",
       "    .dataframe thead th {\n",
       "        text-align: right;\n",
       "    }\n",
       "</style>\n",
       "<table border=\"1\" class=\"dataframe\">\n",
       "  <thead>\n",
       "    <tr style=\"text-align: right;\">\n",
       "      <th></th>\n",
       "      <th>Coastal_station</th>\n",
       "      <th>Storm_surge_total</th>\n",
       "      <th>Percentage</th>\n",
       "    </tr>\n",
       "  </thead>\n",
       "  <tbody>\n",
       "    <tr>\n",
       "      <th>0</th>\n",
       "      <td>Vlssingen</td>\n",
       "      <td>255</td>\n",
       "      <td>51.0</td>\n",
       "    </tr>\n",
       "    <tr>\n",
       "      <th>1</th>\n",
       "      <td>Hoek van Holland</td>\n",
       "      <td>375</td>\n",
       "      <td>75.0</td>\n",
       "    </tr>\n",
       "    <tr>\n",
       "      <th>2</th>\n",
       "      <td>IJmuiden</td>\n",
       "      <td>400</td>\n",
       "      <td>80.0</td>\n",
       "    </tr>\n",
       "    <tr>\n",
       "      <th>3</th>\n",
       "      <td>Harlingen</td>\n",
       "      <td>400</td>\n",
       "      <td>80.0</td>\n",
       "    </tr>\n",
       "    <tr>\n",
       "      <th>4</th>\n",
       "      <td>Eemshaven</td>\n",
       "      <td>425</td>\n",
       "      <td>85.0</td>\n",
       "    </tr>\n",
       "    <tr>\n",
       "      <th>5</th>\n",
       "      <td>Delfzijl</td>\n",
       "      <td>450</td>\n",
       "      <td>90.0</td>\n",
       "    </tr>\n",
       "  </tbody>\n",
       "</table>\n",
       "</div>"
      ],
      "text/plain": [
       "    Coastal_station  Storm_surge_total  Percentage\n",
       "0         Vlssingen                255        51.0\n",
       "1  Hoek van Holland                375        75.0\n",
       "2          IJmuiden                400        80.0\n",
       "3         Harlingen                400        80.0\n",
       "4         Eemshaven                425        85.0\n",
       "5          Delfzijl                450        90.0"
      ]
     },
     "execution_count": 6,
     "metadata": {},
     "output_type": "execute_result"
    }
   ],
   "source": [
    "import pandas as pd\n",
    "# creating and initializing a list\n",
    "values= [['Vlssingen',255],['Hoek van Holland',375],['IJmuiden',400],\n",
    "         ['Harlingen',400],['Eemshaven',425],['Delfzijl',450]] \n",
    "  \n",
    "# creating a pandas dataframe\n",
    "df = pd.DataFrame(values,columns=['Coastal_station','Storm_surge_total'])\n",
    "  \n",
    "# Applying lambda function to find percentage of 'Storm_surge_total' column with df.assign()\n",
    "df = df.assign(Percentage = lambda x: (x['Storm_surge_total'] /500 * 100))\n",
    "  \n",
    "# displaying the data frame\n",
    "df"
   ]
  },
  {
   "cell_type": "markdown",
   "metadata": {},
   "source": [
    "... and on a single row using `df.apply()`:"
   ]
  },
  {
   "cell_type": "code",
   "execution_count": 7,
   "metadata": {},
   "outputs": [
    {
     "data": {
      "text/html": [
       "<div>\n",
       "<style scoped>\n",
       "    .dataframe tbody tr th:only-of-type {\n",
       "        vertical-align: middle;\n",
       "    }\n",
       "\n",
       "    .dataframe tbody tr th {\n",
       "        vertical-align: top;\n",
       "    }\n",
       "\n",
       "    .dataframe thead th {\n",
       "        text-align: right;\n",
       "    }\n",
       "</style>\n",
       "<table border=\"1\" class=\"dataframe\">\n",
       "  <thead>\n",
       "    <tr style=\"text-align: right;\">\n",
       "      <th></th>\n",
       "      <th>Coastal_station</th>\n",
       "      <th>Storm_surge_total</th>\n",
       "      <th>Percentage</th>\n",
       "      <th>m</th>\n",
       "    </tr>\n",
       "  </thead>\n",
       "  <tbody>\n",
       "    <tr>\n",
       "      <th>0</th>\n",
       "      <td>Vlssingen</td>\n",
       "      <td>255</td>\n",
       "      <td>51.0</td>\n",
       "      <td>2.55</td>\n",
       "    </tr>\n",
       "    <tr>\n",
       "      <th>1</th>\n",
       "      <td>Hoek van Holland</td>\n",
       "      <td>375</td>\n",
       "      <td>75.0</td>\n",
       "      <td>3.75</td>\n",
       "    </tr>\n",
       "    <tr>\n",
       "      <th>2</th>\n",
       "      <td>IJmuiden</td>\n",
       "      <td>400</td>\n",
       "      <td>80.0</td>\n",
       "      <td>4.00</td>\n",
       "    </tr>\n",
       "    <tr>\n",
       "      <th>3</th>\n",
       "      <td>Harlingen</td>\n",
       "      <td>400</td>\n",
       "      <td>80.0</td>\n",
       "      <td>4.00</td>\n",
       "    </tr>\n",
       "    <tr>\n",
       "      <th>4</th>\n",
       "      <td>Eemshaven</td>\n",
       "      <td>425</td>\n",
       "      <td>85.0</td>\n",
       "      <td>4.25</td>\n",
       "    </tr>\n",
       "    <tr>\n",
       "      <th>5</th>\n",
       "      <td>Delfzijl</td>\n",
       "      <td>450</td>\n",
       "      <td>90.0</td>\n",
       "      <td>4.50</td>\n",
       "    </tr>\n",
       "  </tbody>\n",
       "</table>\n",
       "</div>"
      ],
      "text/plain": [
       "    Coastal_station  Storm_surge_total  Percentage     m\n",
       "0         Vlssingen                255        51.0  2.55\n",
       "1  Hoek van Holland                375        75.0  3.75\n",
       "2          IJmuiden                400        80.0  4.00\n",
       "3         Harlingen                400        80.0  4.00\n",
       "4         Eemshaven                425        85.0  4.25\n",
       "5          Delfzijl                450        90.0  4.50"
      ]
     },
     "execution_count": 7,
     "metadata": {},
     "output_type": "execute_result"
    }
   ],
   "source": [
    "df['m'] = df['Storm_surge_total'].apply(lambda x: x / 100.0)\n",
    "df"
   ]
  },
  {
   "cell_type": "code",
   "execution_count": null,
   "metadata": {},
   "outputs": [],
   "source": []
  }
 ],
 "metadata": {
  "kernelspec": {
   "display_name": "Python 3",
   "language": "python",
   "name": "python3"
  },
  "language_info": {
   "codemirror_mode": {
    "name": "ipython",
    "version": 3
   },
   "file_extension": ".py",
   "mimetype": "text/x-python",
   "name": "python",
   "nbconvert_exporter": "python",
   "pygments_lexer": "ipython3",
   "version": "3.8.3"
  }
 },
 "nbformat": 4,
 "nbformat_minor": 4
}
