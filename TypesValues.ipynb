{
 "cells": [
  {
   "cell_type": "markdown",
   "metadata": {},
   "source": [
    "# Types and values"
   ]
  },
  {
   "cell_type": "markdown",
   "metadata": {},
   "source": [
    "## String type "
   ]
  },
  {
   "cell_type": "code",
   "execution_count": 1,
   "metadata": {},
   "outputs": [
    {
     "name": "stdout",
     "output_type": "stream",
     "text": [
      "x is 5\n",
      "<class 'str'>\n",
      "x is 7\n",
      "<class 'str'>\n",
      "y is Yesterday I visited 's-Gravenhage\n",
      "<class 'str'>\n",
      "y is Yesterday I visited 's-Gravenhage\n",
      "<class 'str'>\n",
      "z is Julia greeted me saying \"Hello dad\"\n",
      "<class 'str'>\n",
      "z is Julia greeted me saying \"Hello dad\"\n",
      "<class 'str'>\n",
      "w is Line 1, line 2 and line 3 like on 1 line\n",
      "<class 'str'>\n"
     ]
    }
   ],
   "source": [
    "x = '5'\n",
    "print('x is {}'.format(x))\n",
    "print(type(x))\n",
    "\n",
    "x = \"7\"\n",
    "print('x is {}'.format(x))\n",
    "print(type(x))\n",
    "\n",
    "y = 'Yesterday I visited \\'s-Gravenhage' # single quoted string => escape char\n",
    "print('y is {}'.format(y))\n",
    "print(type(y))\n",
    "\n",
    "y = \"Yesterday I visited 's-Gravenhage\"\n",
    "print('y is {}'.format(y))\n",
    "print(type(y))\n",
    "\n",
    "z = 'Julia greeted me saying \"Hello dad\"'\n",
    "print('z is {}'.format(z))\n",
    "print(type(z))\n",
    "\n",
    "z = \"Julia greeted me saying \\\"Hello dad\\\"\" # double quited string => escape char\n",
    "print('z is {}'.format(z))\n",
    "print(type(z))\n",
    "\n",
    "# ignore newline char\n",
    "w = 'Line 1,\\\n",
    " line 2 and\\\n",
    " line 3 like on 1 line'\n",
    "print('w is {}'.format(w))\n",
    "print(type(w))\n"
   ]
  },
  {
   "cell_type": "markdown",
   "metadata": {},
   "source": [
    "## Numerical types "
   ]
  },
  {
   "cell_type": "code",
   "execution_count": 2,
   "metadata": {},
   "outputs": [
    {
     "name": "stdout",
     "output_type": "stream",
     "text": [
      "x is 10\n",
      "<class 'int'>\n",
      "x is 2\n",
      "<class 'int'>\n",
      "x is 8\n",
      "<class 'int'>\n",
      "x is 16\n",
      "<class 'int'>\n",
      "x is 10.2\n",
      "y is 20.4\n",
      "<class 'float'>\n",
      "x is 0.2\n",
      "<class 'float'>\n",
      "x is 10.0\n",
      "<class 'float'>\n",
      "x is 10000.0\n",
      "<class 'float'>\n",
      "x is 0.01\n",
      "<class 'float'>\n",
      "x is (2+3j)\n",
      "<class 'complex'>\n"
     ]
    }
   ],
   "source": [
    "# INTEGER\n",
    "x = 10\n",
    "print('x is {}'.format(x))\n",
    "print(type(x))\n",
    "\n",
    "# Binary Base=2\n",
    "x = 0b10\n",
    "print('x is {}'.format(x))\n",
    "print(type(x))\n",
    "\n",
    "# Octal Base=8\n",
    "x = 0o10\n",
    "print('x is {}'.format(x))\n",
    "print(type(x))\n",
    "\n",
    "# Hexadecimal Base=16\n",
    "x = 0x10\n",
    "print('x is {}'.format(x))\n",
    "print(type(x))\n",
    "\n",
    "\n",
    "# FLOAT\n",
    "x=10.2\n",
    "y=2 * x\n",
    "print('x is {}'.format(x))\n",
    "print('y is {}'.format(y))\n",
    "print(type(x))\n",
    "\n",
    "x=.2\n",
    "print('x is {}'.format(x))\n",
    "print(type(x))\n",
    "\n",
    "x=10.\n",
    "print('x is {}'.format(x))\n",
    "print(type(x))\n",
    "\n",
    "# Float scientific notation\n",
    "x=10e3 # expected 10 * 10**3 => 10000.0\n",
    "print('x is {}'.format(x))\n",
    "print(type(x))\n",
    "\n",
    "x=10e-3 # expected 10 / 10**3 => 0.01\n",
    "print('x is {}'.format(x))\n",
    "print(type(x))\n",
    "\n",
    "\n",
    "# COMPLEX\n",
    "# Complex numbers are specified as <real part>+<imaginary part>j.\n",
    "x=2+3j\n",
    "print('x is {}'.format(x))\n",
    "print(type(x))"
   ]
  },
  {
   "cell_type": "markdown",
   "metadata": {},
   "source": [
    "## Boolean types "
   ]
  },
  {
   "cell_type": "code",
   "execution_count": 3,
   "metadata": {},
   "outputs": [
    {
     "name": "stdout",
     "output_type": "stream",
     "text": [
      "x is False\n",
      "<class 'bool'>\n",
      "x is True\n",
      "<class 'bool'>\n",
      "y is False\n",
      "<class 'bool'>\n",
      "y is True\n",
      "<class 'bool'>\n",
      "y is True\n",
      "<class 'bool'>\n",
      "y is True\n",
      "<class 'bool'>\n",
      "y is False\n",
      "<class 'bool'>\n",
      "y is False\n",
      "<class 'bool'>\n",
      "y is False\n",
      "<class 'bool'>\n",
      "y is True\n",
      "<class 'bool'>\n"
     ]
    }
   ],
   "source": [
    "x = False\n",
    "print('x is {}'.format(x))\n",
    "print(type(x))\n",
    "\n",
    "x = 3 > 2\n",
    "print('x is {}'.format(x))\n",
    "print(type(x))\n",
    "\n",
    "y = x and False\n",
    "print('y is {}'.format(y))\n",
    "print(type(y))\n",
    "\n",
    "y = x and True\n",
    "print('y is {}'.format(y))\n",
    "print(type(y))\n",
    "\n",
    "y = x or False\n",
    "print('y is {}'.format(y))\n",
    "print(type(y))\n",
    "\n",
    "y = x or True\n",
    "print('y is {}'.format(y))\n",
    "print(type(y))\n",
    "\n",
    "x = 3 < 2\n",
    "z = x and False\n",
    "print('y is {}'.format(z))\n",
    "print(type(z))\n",
    "\n",
    "z = x and True\n",
    "print('y is {}'.format(z))\n",
    "print(type(z))\n",
    "\n",
    "z = x or False\n",
    "print('y is {}'.format(z))\n",
    "print(type(z))\n",
    "\n",
    "z = x or True\n",
    "print('y is {}'.format(z))\n",
    "print(type(z))\n"
   ]
  },
  {
   "cell_type": "markdown",
   "metadata": {},
   "source": [
    "## Sequence types "
   ]
  },
  {
   "cell_type": "code",
   "execution_count": 4,
   "metadata": {},
   "outputs": [
    {
     "name": "stdout",
     "output_type": "stream",
     "text": [
      "Value in list:  Alpha\n",
      "Value in list:  Beta\n",
      "Value in list:  Gamma\n",
      "Value in list:  Delta\n",
      "Value mutated list:  DKW\n",
      "Value mutated list:  Beta\n",
      "Value mutated list:  Gamma\n",
      "Value mutated list:  Delta\n",
      "List:  ['monkey']\n",
      "List:  ['monkey', ['DKW', 'Beta', 'Gamma', 'Delta']]\n",
      "Value in tuple:  Alpha\n",
      "Value in tuple:  Beta\n",
      "Value in tuple:  Gamma\n",
      "Value in tuple:  Delta\n",
      "Tuple:  ('seal',)\n",
      "Tuple:  ('seal', 'Alpha', 'Beta', 'Gamma', 'Delta')\n"
     ]
    },
    {
     "ename": "TypeError",
     "evalue": "'tuple' object does not support item assignment",
     "output_type": "error",
     "traceback": [
      "\u001b[1;31m---------------------------------------------------------------------------\u001b[0m",
      "\u001b[1;31mTypeError\u001b[0m                                 Traceback (most recent call last)",
      "\u001b[1;32m<ipython-input-4-4c7936cf3f98>\u001b[0m in \u001b[0;36m<module>\u001b[1;34m\u001b[0m\n\u001b[0;32m     26\u001b[0m \u001b[0mprint\u001b[0m\u001b[1;33m(\u001b[0m\u001b[1;34m'Tuple: '\u001b[0m\u001b[1;33m,\u001b[0m \u001b[0mnewSequence\u001b[0m\u001b[1;33m)\u001b[0m\u001b[1;33m\u001b[0m\u001b[1;33m\u001b[0m\u001b[0m\n\u001b[0;32m     27\u001b[0m \u001b[1;33m\u001b[0m\u001b[0m\n\u001b[1;32m---> 28\u001b[1;33m \u001b[0mmyTuple\u001b[0m\u001b[1;33m[\u001b[0m\u001b[1;36m0\u001b[0m\u001b[1;33m]\u001b[0m \u001b[1;33m=\u001b[0m \u001b[1;34m'DKW'\u001b[0m \u001b[1;31m# impossible => error. Error handling see chapter Exceptions\u001b[0m\u001b[1;33m\u001b[0m\u001b[1;33m\u001b[0m\u001b[0m\n\u001b[0m\u001b[0;32m     29\u001b[0m \u001b[1;32mfor\u001b[0m \u001b[0mi\u001b[0m \u001b[1;32min\u001b[0m \u001b[0mmySequence\u001b[0m\u001b[1;33m:\u001b[0m\u001b[1;33m\u001b[0m\u001b[1;33m\u001b[0m\u001b[0m\n\u001b[0;32m     30\u001b[0m     \u001b[0mprint\u001b[0m\u001b[1;33m(\u001b[0m\u001b[1;34m'Value in mutated tuple: '\u001b[0m\u001b[1;33m,\u001b[0m \u001b[0mi\u001b[0m\u001b[1;33m)\u001b[0m\u001b[1;33m\u001b[0m\u001b[1;33m\u001b[0m\u001b[0m\n",
      "\u001b[1;31mTypeError\u001b[0m: 'tuple' object does not support item assignment"
     ]
    }
   ],
   "source": [
    "# List (mutable)\n",
    "myList = ['Alpha', 'Beta', 'Gamma', 'Delta']\n",
    "for i in myList:\n",
    "    print('Value in list: ', i)\n",
    "myList[0] = 'DKW'\n",
    "for i in myList:\n",
    "    print('Value mutated list: ', i)\n",
    "\n",
    "# List creation\n",
    "newSequence = []\n",
    "newSequence.append('monkey')\n",
    "print('List: ', newSequence)\n",
    "newSequence.append(myList)\n",
    "print('List: ', newSequence)\n",
    "\n",
    "# Tuple (immutable)\n",
    "myTuple = ('Alpha', 'Beta', 'Gamma', 'Delta')\n",
    "for i in myTuple:\n",
    "    print('Value in tuple: ', i)\n",
    "\n",
    "# Tuple creation (although immutable)\n",
    "newSequence = ()\n",
    "newSequence = newSequence + ('seal',) # newSequence is a new tuple!\n",
    "print('Tuple: ', newSequence)\n",
    "newSequence = newSequence + myTuple\n",
    "print('Tuple: ', newSequence)\n",
    "\n",
    "myTuple[0] = 'DKW' # impossible => error. Error handling see chapter Exceptions\n",
    "for i in mySequence:\n",
    "    print('Value in mutated tuple: ', i)\n"
   ]
  },
  {
   "cell_type": "markdown",
   "metadata": {},
   "source": [
    "## Types and ID's "
   ]
  },
  {
   "cell_type": "code",
   "execution_count": 5,
   "metadata": {},
   "outputs": [
    {
     "name": "stdout",
     "output_type": "stream",
     "text": [
      "myTuple = ('one', 'two', 'three', 'four', 'five')\n",
      "<class 'tuple'>\n",
      "3rd item four\n",
      "<class 'str'>\n",
      "\n",
      "myTuple = ('one', 'two', 3.0, [4, 'four'], 'five')\n",
      "<class 'tuple'>\n",
      "3rd item [4, 'four']\n",
      "<class 'list'>\n",
      "\n",
      "id myTuple 2044668418944\n",
      "id anotherTuple 2044668418944\n",
      "Tuples are identical? True\n",
      "\n",
      "id myList 2044669178240\n",
      "id sameList 2044669178240\n",
      "Lists are identical? True\n",
      "Lists are equal? True\n",
      "\n",
      "id myList 2044669178240\n",
      "id copiedList 2044669179200\n",
      "Lists are identical? False\n",
      "Lists are equal? True\n",
      "\n",
      "Value 2nd item in sameList dwa\n",
      "Value 2nd item in copiedList two\n"
     ]
    }
   ],
   "source": [
    "myTuple=('one', 'two', 'three',  'four', 'five')\n",
    "print('myTuple = {}'.format(myTuple))\n",
    "print(type(myTuple))\n",
    "print('3rd item {}'.format(myTuple[3]))\n",
    "print(type(myTuple[3]))\n",
    "\n",
    "myTuple=('one', 'two', 3.0,  [4, 'four'], 'five')\n",
    "print('\\nmyTuple = {}'.format(myTuple))\n",
    "print(type(myTuple))\n",
    "print('3rd item {}'.format(myTuple[3]))\n",
    "print(type(myTuple[3]))\n",
    "\n",
    "anotherTuple=myTuple\n",
    "print('\\nid myTuple {}'.format(id(myTuple)))\n",
    "print('id anotherTuple {}'.format(id(anotherTuple)))\n",
    "print('Tuples are identical? {}'.format(myTuple is anotherTuple))\n",
    "\n",
    "# List\n",
    "myList=['one', 'two', 'three',  'four', 'five']\n",
    "sameList=myList\n",
    "print('\\nid myList {}'.format(id(myList)))\n",
    "print('id sameList {}'.format(id(sameList)))\n",
    "print('Lists are identical? {}'.format(sameList is myList))\n",
    "print('Lists are equal? {}'.format(sameList == myList))\n",
    "\n",
    "copiedList=list(myList)\n",
    "print('\\nid myList {}'.format(id(myList)))\n",
    "print('id copiedList {}'.format(id(copiedList)))\n",
    "print('Lists are identical? {}'.format(copiedList is myList))\n",
    "print('Lists are equal? {}'.format(copiedList == myList))\n",
    "\n",
    "myList[1]='dwa'\n",
    "print('\\nValue 2nd item in sameList {}'.format(sameList[1]))\n",
    "print('Value 2nd item in copiedList {}'.format(copiedList[1]))"
   ]
  },
  {
   "cell_type": "code",
   "execution_count": null,
   "metadata": {},
   "outputs": [],
   "source": []
  }
 ],
 "metadata": {
  "kernelspec": {
   "display_name": "Python 3",
   "language": "python",
   "name": "python3"
  },
  "language_info": {
   "codemirror_mode": {
    "name": "ipython",
    "version": 3
   },
   "file_extension": ".py",
   "mimetype": "text/x-python",
   "name": "python",
   "nbconvert_exporter": "python",
   "pygments_lexer": "ipython3",
   "version": "3.8.3"
  }
 },
 "nbformat": 4,
 "nbformat_minor": 4
}
