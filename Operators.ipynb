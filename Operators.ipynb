{
 "cells": [
  {
   "cell_type": "markdown",
   "metadata": {},
   "source": [
    "# Operators\n",
    "Operator precedence describes the order in which operators are evaluated in a compound expression. In Python, operators have precedence. This table lists the Python operator precedence. The higher precedence operators are at the top, and the lower precedence at the bottom. In many cases, the order of these operators is obvious and follows the same rules as the math we learned in school. In other cases, they may not be so obvious. \n",
    "\n",
    "\n",
    "\n",
    "Operator                 | Description\n",
    "-------------------------|-------------------\n",
    "**                       |\t\t\tExponentiation (raise to the power)\n",
    "~ + -                    |\t\t\tComplement, unary plus and minus (method names for the last two are +@ and -@)\n",
    "* / % //                 |\t\t\t\tMultiply, divide, modulo and floor division\n",
    "+ -                      |\t\t\tAddition and subtraction\n",
    ">> <<                    |\t\tRight and left bitwise shift\n",
    "&                        |\t\tBitwise 'AND'\n",
    "^ &#124;                      |\t\tBitwise exclusive 'OR' and regular 'OR'\n",
    "<= < > >=                |\t\t\tComparison operators\n",
    "<> == !=                 |\t\tEquality operators\n",
    "= %= /= //= -= += *= **= |\tAssignment operators\n",
    "is is not                |\t\t\tIdentity operators\n",
    "in not in                |\t\t\tMembership operators\n",
    "not or and               |\t\t\tLogical operators"
   ]
  },
  {
   "cell_type": "markdown",
   "metadata": {},
   "source": [
    "## Arithmetic"
   ]
  },
  {
   "cell_type": "code",
   "execution_count": 1,
   "metadata": {},
   "outputs": [
    {
     "name": "stdout",
     "output_type": "stream",
     "text": [
      "result is 8\n",
      "result is 2\n",
      "result is 15\n",
      "result is 1.6666666666666667\n",
      "result is 1\n",
      "result is 2\n",
      "result is -2\n"
     ]
    }
   ],
   "source": [
    "x = 5\n",
    "y = 3\n",
    "z = x + y\n",
    "print(f'result is {z}') # f-String\n",
    "\n",
    "z = x - y\n",
    "print(f'result is {z}') # f-String\n",
    "\n",
    "z = x * y\n",
    "print(f'result is {z}') # f-String\n",
    "\n",
    "z = x / y\n",
    "print(f'result is {z}') # f-String\n",
    "\n",
    "z = x // y\n",
    "print(f'result is {z}') # f-String\n",
    "\n",
    "z = x % y\n",
    "print(f'result is {z}') # f-String\n",
    "\n",
    "z = -z\n",
    "print(f'result is {z}') # f-String"
   ]
  },
  {
   "cell_type": "markdown",
   "metadata": {},
   "source": [
    "## Bitwise"
   ]
  },
  {
   "cell_type": "code",
   "execution_count": 2,
   "metadata": {},
   "outputs": [
    {
     "name": "stdout",
     "output_type": "stream",
     "text": [
      "Binary value x(5) => 0b101\n",
      "Binary value y(7) => 0b111\n",
      "Boolean and of x and y => 7\n",
      "Bitwise x & y => 5\n",
      "Bitwise x | y => 7\n",
      "Bitwise x ^ y => 2\n",
      "Bitwise ~y => -8\n",
      "Binary value ~y => -0b1000\n",
      "Bitwise x << y => 640\n",
      "Bitwise True << 2 => 4\n",
      "Binary value y(7) => 0b111\n",
      "Bitwise x >> y => 0\n",
      "Binary value y(3) => 0b11\n",
      "Bitwise 3 >> 1 => 1\n",
      "Binary representation of 1 0b1\n"
     ]
    }
   ],
   "source": [
    "x = 5\n",
    "y = 7\n",
    "\n",
    "# And (&). If both bits are 1, the resulting bit is 1; else the result is 0\n",
    "# 0101 & 0111 => 0101 (5)\n",
    "print('Binary value x(5) => {}'.format(bin(x)))\n",
    "print('Binary value y(7) => {}'.format(bin(y)))\n",
    "\n",
    "print('Boolean and of x and y => {}'.format(x and y))\n",
    "print('Bitwise x & y => {}'.format(x & y))\n",
    "\n",
    "# Or (|). The result is 0 if both bits are 0, while else the result is 1\n",
    "# 0101 | 0111 => 0111 (7)\n",
    "print('Bitwise x | y => {}'.format(x | y))\n",
    "\n",
    "# Xor (^). The result is 1 if only the first bit is 1 or only the second bit is 1, but will be 0 if both are 0 or both are 1\n",
    "# 0101 ^ 0111 => 0010 (2)\n",
    "print('Bitwise x ^ y => {}'.format(x ^ y))\n",
    "\n",
    "# Complement (~), the only unary operation\n",
    "# 10101011 becomes 01010100\n",
    "# 0111  becomes 1000\n",
    "print('Bitwise ~y => {}'.format(~y))\n",
    "print('Binary value ~y => {}'.format(bin(~y)))\n",
    "\n",
    "# Left-Shift (<<). Zeros are shifted in on the right.\n",
    "print('Bitwise x << y => {}'.format(x << y)) # shift 7 to the left\n",
    "print('Bitwise True << 2 => {}'.format(True << 2))\n",
    "\n",
    "# Right-Shift (>>), The sign bit (MSB) is shifted in on the left\n",
    "print('Binary value y(7) => {}'.format(bin(y)))\n",
    "print('Bitwise x >> y => {}'.format(x >> y)) # shift 7 to the right\n",
    "print('Binary value y(3) => {}'.format(bin(3)))\n",
    "a=3>>1\n",
    "print('Bitwise 3 >> 1 => {}'.format(a)) # shift 1 to the right\n",
    "print('Binary representation of 1 {}'.format(bin(1)))"
   ]
  },
  {
   "cell_type": "markdown",
   "metadata": {},
   "source": [
    "## Comparison"
   ]
  },
  {
   "cell_type": "code",
   "execution_count": 3,
   "metadata": {},
   "outputs": [
    {
     "name": "stdout",
     "output_type": "stream",
     "text": [
      "comparison is true (x < y)\n",
      "comparison is false (x > y)\n",
      "comparison is true (x+31 <= y)\n",
      "comparison is true x+31 >= y\n",
      "comparison is true (x+31 == y)\n",
      "comparison is true (x != y)\n",
      "x < 60\n",
      "x not between 50 and 60\n",
      "A fiftyYearOld? False\n"
     ]
    }
   ],
   "source": [
    "x = 42\n",
    "y = 73\n",
    "if x < y:\n",
    "    print(f'comparison is true (x < y)')\n",
    "\n",
    "if x > y:\n",
    "    print(f'comparison is true')\n",
    "else:\n",
    "    print(f'comparison is false (x > y)')\n",
    "\n",
    "if x+31 <= y:\n",
    "    print(f'comparison is true (x+31 <= y)')\n",
    "\n",
    "if x+31 >= y:\n",
    "    print(f'comparison is true x+31 >= y')\n",
    "\n",
    "if x+31 == y:\n",
    "    print(f'comparison is true (x+31 == y)')\n",
    "\n",
    "if x != y:\n",
    "    print(f'comparison is true (x != y)')\n",
    "\n",
    "if x > 49:\n",
    "    print(f'x > 49')\n",
    "elif x < 60:\n",
    "    print(f'x < 60')\n",
    "else:\n",
    "    print(f'x not between 50 and 60') # never executed\n",
    "\n",
    "# the wat to test between 50 and 60\n",
    "if x >= 50 and x < 60:\n",
    "    print(f'x between 50 and 60')\n",
    "else:\n",
    "    print(f'x not between 50 and 60')\n",
    "\n",
    "# ternary\n",
    "fiftyYearOld=True if x>= 50 and x < 60 else False\n",
    "print(f'A fiftyYearOld? {fiftyYearOld}')"
   ]
  },
  {
   "cell_type": "markdown",
   "metadata": {},
   "source": [
    "## Logical"
   ]
  },
  {
   "cell_type": "code",
   "execution_count": 4,
   "metadata": {},
   "outputs": [
    {
     "name": "stdout",
     "output_type": "stream",
     "text": [
      "result with and is True\n",
      "result with and is True\n",
      "result with or is True\n",
      "result with or is True\n",
      "result with not is True\n",
      "myList and newList are equal? True\n",
      "myList and newList are identical? True\n",
      "myList and newList2 are equal? True\n",
      "myList and newList2 are identical? False\n",
      "myList and newList2 are not identical? True\n",
      "Item 'aap' is in myList? True\n",
      "Item 'mus' is in myList? False\n",
      "Item 'aap' is in myTuple? True\n",
      "Item 'mus' is not in myTuple? True\n",
      "Item [3, 'wim', 'zus', 'jet'] is in myList? True\n",
      "Item [3, 'wima', 'zus', 'jet'] is in myList? False\n",
      "Item [3, 'wim', 'zus', 'jet'] is in myTuple? True\n"
     ]
    }
   ],
   "source": [
    "# Boolean (and, or, not)\n",
    "x = 5\n",
    "y = 3\n",
    "result = x * y >= 15 and x + y < 10\n",
    "print(f'result with and is {result}') # f-String\n",
    "result = x * y >= 15 and x + y < 10 and not x * y > 20\n",
    "print(f'result with and is {result}') # f-String\n",
    "\n",
    "result = x * y > 15 or x + y < 10\n",
    "print(f'result with or is {result}') # f-String\n",
    "result = x * y > 15 or x + y < 10 or x * y > 20\n",
    "print(f'result with or is {result}') # f-String\n",
    "\n",
    "result = not (x * y > 15 and x * y > 20)\n",
    "print(f'result with not is {result}') # f-String\n",
    "\n",
    "# Identity (is, is not)\n",
    "myList = ['aap', 2, ('noot', 'mies'), [3, 'wim', 'zus', 'jet'], 3/2]\n",
    "newList = myList\n",
    "newList2 = list(myList)\n",
    "print('myList and newList are equal? {}'.format(newList == myList))\n",
    "print('myList and newList are identical? {}'.format(newList is myList))\n",
    "print('myList and newList2 are equal? {}'.format(newList2 == myList))\n",
    "print('myList and newList2 are identical? {}'.format(newList2 is myList))\n",
    "print('myList and newList2 are not identical? {}'.format(newList2 is not myList))\n",
    "\n",
    "# Membership (in, not in)\n",
    "myTuple = tuple(myList)\n",
    "print('Item \\'aap\\' is in myList? {}'.format('aap' in myList))\n",
    "print('Item \\'mus\\' is in myList? {}'.format('mus' in myList))\n",
    "print('Item \\'aap\\' is in myTuple? {}'.format('aap' in myTuple))\n",
    "print('Item \\'mus\\' is not in myTuple? {}'.format('mus' not in myTuple))\n",
    "print('Item [3, \\'wim\\', \\'zus\\', \\'jet\\'] is in myList? {}'.format([3, 'wim', 'zus', 'jet'] in myList))\n",
    "print('Item [3, \\'wima\\', \\'zus\\', \\'jet\\'] is in myList? {}'.format([3, 'wima', 'zus', 'jet'] in myList))\n",
    "print('Item [3, \\'wim\\', \\'zus\\', \\'jet\\'] is in myTuple? {}'.format([3, 'wim', 'zus', 'jet'] in myTuple))"
   ]
  },
  {
   "cell_type": "code",
   "execution_count": null,
   "metadata": {},
   "outputs": [],
   "source": []
  }
 ],
 "metadata": {
  "kernelspec": {
   "display_name": "Python 3",
   "language": "python",
   "name": "python3"
  },
  "language_info": {
   "codemirror_mode": {
    "name": "ipython",
    "version": 3
   },
   "file_extension": ".py",
   "mimetype": "text/x-python",
   "name": "python",
   "nbconvert_exporter": "python",
   "pygments_lexer": "ipython3",
   "version": "3.8.3"
  }
 },
 "nbformat": 4,
 "nbformat_minor": 4
}
