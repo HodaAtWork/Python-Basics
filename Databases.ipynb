{
 "cells": [
  {
   "cell_type": "markdown",
   "metadata": {},
   "source": [
    "# Databases\n",
    "Python implements a standard database API over all databases. Its called [DBAPI2](http://cewing.github.io/training.codefellows/lectures/day21/intro_to_dbapi2.html). It works across many SQL databases. This notebook uses SQLite, the Python built-in database. No server and/or client side installation needed, just `import` sqlite. You might consider installing the [SQLite browser](http://sqlitebrowser.org) to design, make and edit SQLite compatible database files.\n",
    "<br><br>\n",
    "- There is an even higher level API available, called [SQLAlchemy](http://www.sqlalchemy.org) (not used here).\n",
    "- Not discussed here, but SQLite integrates nicely with the `Pandas` dataframe. "
   ]
  },
  {
   "cell_type": "code",
   "execution_count": 1,
   "metadata": {},
   "outputs": [],
   "source": [
    "from sqlite3 import dbapi2 as sl3\n",
    "# OR: import sqlite3 as sl3. This can be done as well, but you have to reference to sl3.dbapi2."
   ]
  },
  {
   "cell_type": "markdown",
   "metadata": {},
   "source": [
    "## Example\n",
    "A small example connecting to a database, populating the database from a text file and some querying."
   ]
  },
  {
   "cell_type": "code",
   "execution_count": 2,
   "metadata": {},
   "outputs": [],
   "source": [
    "# database connection\n",
    "connection = sl3.connect('test_sqlite.db')"
   ]
  },
  {
   "cell_type": "markdown",
   "metadata": {},
   "source": [
    "### Database schema\n",
    "In our example we use the schema below to create a database table"
   ]
  },
  {
   "cell_type": "code",
   "execution_count": 3,
   "metadata": {},
   "outputs": [],
   "source": [
    "testschema=\"\"\"\n",
    "DROP TABLE IF EXISTS \"candidates\";\n",
    "CREATE TABLE \"candidates\" (\n",
    "    \"id\" INTEGER PRIMARY KEY  NOT NULL ,\n",
    "    \"first_name\" VARCHAR,\n",
    "    \"last_name\" VARCHAR,\n",
    "    \"middle_name\" VARCHAR,\n",
    "    \"party\" VARCHAR NOT NULL\n",
    ");\n",
    "\"\"\""
   ]
  },
  {
   "cell_type": "code",
   "execution_count": 4,
   "metadata": {},
   "outputs": [],
   "source": [
    "with connection:\n",
    "    connection.cursor().executescript(testschema)\n",
    "connection.commit()"
   ]
  },
  {
   "cell_type": "markdown",
   "metadata": {},
   "source": [
    "### Populate the database with SQL INSERT\n",
    "The data to be inserted comes from file `candidates.txt`"
   ]
  },
  {
   "cell_type": "code",
   "execution_count": 5,
   "metadata": {},
   "outputs": [
    {
     "name": "stdout",
     "output_type": "stream",
     "text": [
      "33 Joseph Biden  D\n",
      "\n",
      "INSERT INTO candidates (id, first_name, last_name, middle_name, party)     VALUES (?,?,?,?,?);\n",
      " (33, 'Joseph', 'Biden', '', 'D')\n",
      "36 Samuel Brownback  R\n",
      "\n",
      "INSERT INTO candidates (id, first_name, last_name, middle_name, party)     VALUES (?,?,?,?,?);\n",
      " (36, 'Samuel', 'Brownback', '', 'R')\n",
      "34 Hillary Clinton R. D\n",
      "\n",
      "INSERT INTO candidates (id, first_name, last_name, middle_name, party)     VALUES (?,?,?,?,?);\n",
      " (34, 'Hillary', 'Clinton', 'R.', 'D')\n",
      "39 Christopher Dodd J. D\n",
      "\n",
      "INSERT INTO candidates (id, first_name, last_name, middle_name, party)     VALUES (?,?,?,?,?);\n",
      " (39, 'Christopher', 'Dodd', 'J.', 'D')\n",
      "26 John Edwards  D\n",
      "\n",
      "INSERT INTO candidates (id, first_name, last_name, middle_name, party)     VALUES (?,?,?,?,?);\n",
      " (26, 'John', 'Edwards', '', 'D')\n",
      "22 Rudolph Giuliani  R\n",
      "\n",
      "INSERT INTO candidates (id, first_name, last_name, middle_name, party)     VALUES (?,?,?,?,?);\n",
      " (22, 'Rudolph', 'Giuliani', '', 'R')\n",
      "24 Mike Gravel  D\n",
      "\n",
      "INSERT INTO candidates (id, first_name, last_name, middle_name, party)     VALUES (?,?,?,?,?);\n",
      " (24, 'Mike', 'Gravel', '', 'D')\n",
      "16 Mike Huckabee  R\n",
      "\n",
      "INSERT INTO candidates (id, first_name, last_name, middle_name, party)     VALUES (?,?,?,?,?);\n",
      " (16, 'Mike', 'Huckabee', '', 'R')\n",
      "30 Duncan Hunter  R\n",
      "\n",
      "INSERT INTO candidates (id, first_name, last_name, middle_name, party)     VALUES (?,?,?,?,?);\n",
      " (30, 'Duncan', 'Hunter', '', 'R')\n",
      "31 Dennis Kucinich  D\n",
      "\n",
      "INSERT INTO candidates (id, first_name, last_name, middle_name, party)     VALUES (?,?,?,?,?);\n",
      " (31, 'Dennis', 'Kucinich', '', 'D')\n",
      "37 John McCain  R\n",
      "\n",
      "INSERT INTO candidates (id, first_name, last_name, middle_name, party)     VALUES (?,?,?,?,?);\n",
      " (37, 'John', 'McCain', '', 'R')\n",
      "20 Barack Obama  D\n",
      "\n",
      "INSERT INTO candidates (id, first_name, last_name, middle_name, party)     VALUES (?,?,?,?,?);\n",
      " (20, 'Barack', 'Obama', '', 'D')\n",
      "32 Ron Paul  R\n",
      "\n",
      "INSERT INTO candidates (id, first_name, last_name, middle_name, party)     VALUES (?,?,?,?,?);\n",
      " (32, 'Ron', 'Paul', '', 'R')\n",
      "29 Bill Richardson  D\n",
      "\n",
      "INSERT INTO candidates (id, first_name, last_name, middle_name, party)     VALUES (?,?,?,?,?);\n",
      " (29, 'Bill', 'Richardson', '', 'D')\n",
      "35 Mitt Romney  R\n",
      "\n",
      "INSERT INTO candidates (id, first_name, last_name, middle_name, party)     VALUES (?,?,?,?,?);\n",
      " (35, 'Mitt', 'Romney', '', 'R')\n",
      "38 Tom Tancredo  R\n",
      "\n",
      "INSERT INTO candidates (id, first_name, last_name, middle_name, party)     VALUES (?,?,?,?,?);\n",
      " (38, 'Tom', 'Tancredo', '', 'R')\n",
      "41 Fred Thompson D. R\n",
      "\n",
      "INSERT INTO candidates (id, first_name, last_name, middle_name, party)     VALUES (?,?,?,?,?);\n",
      " (41, 'Fred', 'Thompson', 'D.', 'R')\n"
     ]
    }
   ],
   "source": [
    "ins=\"\"\"\n",
    "INSERT INTO candidates (id, first_name, last_name, middle_name, party) \\\n",
    "    VALUES (?,?,?,?,?);\n",
    "\"\"\"\n",
    "with open(\"data/candidates.txt\") as fd:\n",
    "    slines =[l.strip().split('|') for l in fd.readlines()]\n",
    "    for line in slines[1:]:\n",
    "        theid, first_name, last_name, middle_name, party = line\n",
    "        print (theid, first_name, last_name, middle_name, party)\n",
    "        valstoinsert = (int(theid), first_name, last_name, middle_name, party)\n",
    "        print (ins, valstoinsert)\n",
    "        connection.cursor().execute(ins, valstoinsert)"
   ]
  },
  {
   "cell_type": "markdown",
   "metadata": {},
   "source": [
    "### Querying"
   ]
  },
  {
   "cell_type": "code",
   "execution_count": 6,
   "metadata": {},
   "outputs": [],
   "source": [
    "query1 = \"SELECT * FROM CANDIDATES WHERE party= 'R'\" "
   ]
  },
  {
   "cell_type": "code",
   "execution_count": 7,
   "metadata": {},
   "outputs": [
    {
     "data": {
      "text/plain": [
       "[(16, 'Mike', 'Huckabee', '', 'R'),\n",
       " (22, 'Rudolph', 'Giuliani', '', 'R'),\n",
       " (30, 'Duncan', 'Hunter', '', 'R'),\n",
       " (32, 'Ron', 'Paul', '', 'R'),\n",
       " (35, 'Mitt', 'Romney', '', 'R'),\n",
       " (36, 'Samuel', 'Brownback', '', 'R'),\n",
       " (37, 'John', 'McCain', '', 'R'),\n",
       " (38, 'Tom', 'Tancredo', '', 'R'),\n",
       " (41, 'Fred', 'Thompson', 'D.', 'R')]"
      ]
     },
     "execution_count": 7,
     "metadata": {},
     "output_type": "execute_result"
    }
   ],
   "source": [
    "connection.cursor().execute(query1).fetchall()"
   ]
  },
  {
   "cell_type": "code",
   "execution_count": 8,
   "metadata": {},
   "outputs": [],
   "source": [
    "query2 = \"SELECT * FROM CANDIDATES WHERE first_name like 'Jo%'\""
   ]
  },
  {
   "cell_type": "code",
   "execution_count": 9,
   "metadata": {},
   "outputs": [
    {
     "data": {
      "text/plain": [
       "[(26, 'John', 'Edwards', '', 'D'),\n",
       " (33, 'Joseph', 'Biden', '', 'D'),\n",
       " (37, 'John', 'McCain', '', 'R')]"
      ]
     },
     "execution_count": 9,
     "metadata": {},
     "output_type": "execute_result"
    }
   ],
   "source": [
    "connection.cursor().execute(query2).fetchall()"
   ]
  },
  {
   "cell_type": "markdown",
   "metadata": {},
   "source": [
    "### Deleting\n",
    "To make deletion permanent perform a `commit()` action."
   ]
  },
  {
   "cell_type": "code",
   "execution_count": 10,
   "metadata": {},
   "outputs": [
    {
     "data": {
      "text/plain": [
       "[]"
      ]
     },
     "execution_count": 10,
     "metadata": {},
     "output_type": "execute_result"
    }
   ],
   "source": [
    "connection.cursor().execute(\"DELETE FROM CANDIDATES WHERE party = 'R'\")\n",
    "connection.commit()\n",
    "\n",
    "# Check by executing query1 to check the deletion\n",
    "connection.cursor().execute(query1).fetchall()"
   ]
  },
  {
   "cell_type": "markdown",
   "metadata": {},
   "source": [
    "The SQLite browser indeed does not show candidates of party 'R'.\n",
    "![](BrowserSQLite.JPG)"
   ]
  },
  {
   "cell_type": "markdown",
   "metadata": {},
   "source": [
    "### Close db connection\n",
    "At the end close the database connection."
   ]
  },
  {
   "cell_type": "code",
   "execution_count": 11,
   "metadata": {},
   "outputs": [],
   "source": [
    "connection.close()"
   ]
  }
 ],
 "metadata": {
  "kernelspec": {
   "display_name": "Python 3",
   "language": "python",
   "name": "python3"
  },
  "language_info": {
   "codemirror_mode": {
    "name": "ipython",
    "version": 3
   },
   "file_extension": ".py",
   "mimetype": "text/x-python",
   "name": "python",
   "nbconvert_exporter": "python",
   "pygments_lexer": "ipython3",
   "version": "3.8.3"
  }
 },
 "nbformat": 4,
 "nbformat_minor": 4
}
