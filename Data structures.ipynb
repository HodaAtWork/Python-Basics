{
 "cells": [
  {
   "cell_type": "markdown",
   "metadata": {},
   "source": [
    "# Structured data\n",
    "This is mainly about collection types to create structured data. This notebook covers list, tuple, dictionary and set."
   ]
  },
  {
   "cell_type": "markdown",
   "metadata": {},
   "source": [
    "## List\n",
    "A list is a basic sequence created using square brackets around a comma separated list of values. Listst are mutable. The slice presentation is powerful."
   ]
  },
  {
   "cell_type": "code",
   "execution_count": 1,
   "metadata": {},
   "outputs": [
    {
     "name": "stdout",
     "output_type": "stream",
     "text": [
      "List element is  rock\n",
      "List element is  ink\n",
      "List element is  scissors\n",
      "List element is  cow\n",
      "List element is  Starsky\n",
      "Game 5 is Starsky\n",
      "first item games[0] is rock\n",
      "first item games[-5] is rock\n",
      "slice presentation first item games[0:1] is ['rock']\n",
      "last item games[4] is Starsky\n",
      "last item games[-1] is Starsky\n",
      "slice presentation last item games[4:5] is ['Starsky']\n",
      "slice presentation games[1:3] is ['ink', 'scissors']\n",
      "range 0, 5, 2 results in rock\n",
      "range 0, 5, 2 results in scissors\n",
      "range 0, 5, 2 results in Starsky\n",
      "Game 2 before is ink\n",
      "Game 2 after is carbon\n",
      "['rock', 'carbon', 'scissors', 'cow', 'Starsky', ('wim', 'zus', 'jet')]\n",
      "['transmitter', 'rock', 'carbon', 'scissors', 'cow', 'Starsky', ('wim', 'zus', 'jet')]\n",
      "['transmitter', 'rock', 'carbon', 'scissors', 'cow', 'Starsky', ('wim', 'zus', 'jet'), 'aap', 'noot', 'mies']\n",
      "index 3rd element is 2\n",
      "Element noot in games? True\n",
      "Element walnut in games? False\n",
      "['transmitter', 'rock', 'carbon', 'scissors', 'cow', 'Starsky', 'aap', 'noot', 'mies']\n",
      "['transmitter', 'rock', 'carbon', 'scissors', 'cow', 'Starsky', 'aap', 'noot', 'mies', 'transmitter', 'rock', 'carbon', 'scissors', 'cow', 'Starsky', 'aap', 'noot', 'mies']\n"
     ]
    }
   ],
   "source": [
    "# LIST\n",
    "#\n",
    "games = ['rock', 'ink', 'scissors', 'cow', 'Starsky']\n",
    "for i in games:\n",
    "    print('List element is ', i)\n",
    "\n",
    "print('Game 5 is {}'.format(games[4]))\n",
    "\n",
    "# Slice presentation returns copy of list\n",
    "print('first item games[0] is {}'.format(games[0]))\n",
    "print('first item games[-5] is {}'.format(games[-5]))\n",
    "print('slice presentation first item games[0:1] is {}'.format(games[0:1]))\n",
    "print('last item games[4] is {}'.format(games[4]))\n",
    "print('last item games[-1] is {}'.format(games[-1]))\n",
    "print('slice presentation last item games[4:5] is {}'.format(games[4:5]))\n",
    "print('slice presentation games[1:3] is {}'.format(games[1:3]))\n",
    "\n",
    "# range of values in list\n",
    "for i in range(0, 5, 2):\n",
    "    print('range 0, 5, 2 results in {}'.format(games[i]))\n",
    "\n",
    "# change value in list (lists are mutable)\n",
    "print('Game 2 before is {}'.format(games[1]))\n",
    "games[1] = 'carbon'\n",
    "print('Game 2 after is {}'.format(games[1]))\n",
    "\n",
    "# add list element at end; here a tuple\n",
    "games.append(('wim', 'zus', 'jet'))\n",
    "print(games)\n",
    "\n",
    "# add list element at end\n",
    "games.insert(0, 'transmitter')\n",
    "print(games)\n",
    "\n",
    "# add list elements as separate items; here from a tuple\n",
    "games.extend(('aap', 'noot', 'mies'))\n",
    "print(games)\n",
    "\n",
    "# get index of list element\n",
    "print('index 3rd element is {}'.format(games.index('carbon')))\n",
    "\n",
    "# check if element is in list\n",
    "print('Element noot in games? {}'.format('noot' in games))\n",
    "print('Element walnut in games? {}'.format('walnut' in games))\n",
    "\n",
    "# remove element from list; here a tuple\n",
    "games.remove(('wim', 'zus', 'jet'))\n",
    "print(games)\n",
    "\n",
    "# double the list by multiplication by 2\n",
    "games *= 2\n",
    "print(games)"
   ]
  },
  {
   "cell_type": "markdown",
   "metadata": {},
   "source": [
    "## Tuple\n",
    "A tuple is like a list, but immutable. You can't change it once it's been created. A tuple is created using parentheses."
   ]
  },
  {
   "cell_type": "code",
   "execution_count": 3,
   "metadata": {},
   "outputs": [
    {
     "name": "stdout",
     "output_type": "stream",
     "text": [
      "Tuple element is  rock\n",
      "Tuple element is  ink\n",
      "Tuple element is  scissors\n",
      "Tuple element is  lizard\n",
      "Tuple element is  Starsky\n",
      "Game 5 is Starsky\n",
      "first item games[0] is rock\n",
      "first item games[-5] is rock\n",
      "slice presentation first item games[0:1] is ('rock',)\n",
      "last item games[4] is Starsky\n",
      "last item games[-1] is Starsky\n",
      "slice presentation last item games[4:5] is ('Starsky',)\n",
      "slice presentation games[1:3] is ('ink', 'scissors')\n",
      "range 0, 5, 2 gives rock\n",
      "range 0, 5, 2 gives scissors\n",
      "range 0, 5, 2 gives Starsky\n",
      "Game 2 before is ink\n",
      "Tuple elements cannot be replaced (immutable)\n",
      "index 2nd element is 1\n",
      "Element lizard in games? True\n",
      "Element monkey in games? False\n",
      "Tuple ()\n",
      "Tuple ('A', 'B', 'C')\n",
      "Tuple ('A', 'B', 'C', 'rock', 'ink', 'scissors', 'lizard', 'Starsky')\n"
     ]
    }
   ],
   "source": [
    "# TUPLE\n",
    "#\n",
    "games = ('rock', 'ink', 'scissors', 'lizard', 'Starsky')\n",
    "for i in games:\n",
    "    print('Tuple element is ', i)\n",
    "\n",
    "print('Game 5 is {}'.format(games[4]))\n",
    "\n",
    "# Slice presentation returns copy of the tuple\n",
    "print('first item games[0] is {}'.format(games[0]))\n",
    "print('first item games[-5] is {}'.format(games[-5]))\n",
    "print('slice presentation first item games[0:1] is {}'.format(games[0:1]))\n",
    "print('last item games[4] is {}'.format(games[4]))\n",
    "print('last item games[-1] is {}'.format(games[-1]))\n",
    "print('slice presentation last item games[4:5] is {}'.format(games[4:5]))\n",
    "print('slice presentation games[1:3] is {}'.format(games[1:3]))\n",
    "\n",
    "# range of values in tuple\n",
    "for i in range(0, 5, 2):\n",
    "    print('range 0, 5, 2 gives {}'.format(games[i]))\n",
    "\n",
    "# change value in tuple (tuples are immutable)\n",
    "print('Game 2 before is {}'.format(games[1]))\n",
    "try:\n",
    "    games[1] = 'carbon'\n",
    "    print('Game 2 after is {}'.format(games[1]))\n",
    "except:\n",
    "    print('Tuple elements cannot be replaced (immutable)') \n",
    "\n",
    "# get index of tuple element\n",
    "print('index 2nd element is {}'.format(games.index('ink')))\n",
    "\n",
    "# check if element is in tuple\n",
    "print('Element lizard in games? {}'.format('lizard' in games))\n",
    "print('Element monkey in games? {}'.format('monkey' in games))\n",
    "\n",
    "# Build a tuple\n",
    "alphabet = ()\n",
    "print('Tuple {}'.format(alphabet))\n",
    "alphabet = alphabet + ('A',)\n",
    "alphabet = alphabet + ('B',)\n",
    "alphabet = alphabet + ('C',)\n",
    "print('Tuple {}'.format(alphabet))\n",
    "alphabet = alphabet + games\n",
    "print('Tuple {}'.format(alphabet))\n"
   ]
  },
  {
   "cell_type": "markdown",
   "metadata": {},
   "source": [
    "## Set\n",
    "A set is an unordered list of unique values. It is often used to find unique values within a sequence. An empty set is created using parentheses; else use curly braces."
   ]
  },
  {
   "cell_type": "code",
   "execution_count": 4,
   "metadata": {},
   "outputs": [
    {
     "name": "stdout",
     "output_type": "stream",
     "text": [
      "Set after adding 1 => {1}\n",
      "Set after updating with chars 2, 3, 4 => {1, '2', '4', '3'}\n",
      "Set after updating with numbers 2, 3, 4 => {1, 2, 3, 4, '4', '3', '2'}\n",
      "Set after adding tuple with numbers 2, 3, 4 => {1, 2, 3, 4, '4', '3', (2, 3, 4), '2'}\n",
      "Set after removing tuple with numbers 2, 3, 4 => {1, 2, 3, 4, '4', '3', '2'}\n",
      "Set after discarding non-existing number 5 => {1, 2, 3, 4, '4', '3', '2'}\n",
      "Set after clearing set => set()\n",
      "Union of setA and setB => {0, 1, 2, 3, 4, 5, 6, 7, 8, 9}\n",
      "Intersection of setA and setB => {8, 3, 4, 7}\n",
      "Difference of setA - setB (only in setA) => {0, 2, 6}\n",
      "Difference of setB - setA (only in setB) => {1, 5, 9}\n",
      "Symmetric difference of setA and setB (not the ones in common) => {0, 1, 2, 5, 6, 9}\n"
     ]
    }
   ],
   "source": [
    "#\n",
    "# SET\n",
    "#\n",
    "# create a simple Set\n",
    "mySet = set() # not mySet = {} which creates an empty dictionary\n",
    "mySet.add(1)  # add 1 item\n",
    "print('Set after adding 1 => {}'.format(mySet))\n",
    "mySet.update('2', '3', '4')\n",
    "print('Set after updating with chars 2, 3, 4 => {}'.format(mySet))\n",
    "mySet.update([2, 3, 4])\n",
    "print('Set after updating with numbers 2, 3, 4 => {}'.format(mySet))\n",
    "mySet.add((2, 3, 4))\n",
    "print('Set after adding tuple with numbers 2, 3, 4 => {}'.format(mySet))\n",
    "mySet.remove((2, 3, 4))\n",
    "print('Set after removing tuple with numbers 2, 3, 4 => {}'.format(mySet))\n",
    "mySet.discard(5) # discard leaves set unchanged for non-existing item\n",
    "print('Set after discarding non-existing number 5 => {}'.format(mySet))\n",
    "#mySet.remove(5) # remove raises error for non-existing item\n",
    "#print('Set after removing non-existing number 5 => {}'.format(mySet))\n",
    "mySet.clear() # removes all items in set\n",
    "print('Set after clearing set => {}'.format(mySet))\n",
    "\n",
    "# Set operations\n",
    "setA = {0, 2, 3, 4, 6, 7, 8}\n",
    "setB = {1, 3, 4, 5, 7, 8, 9}\n",
    "# Union\n",
    "print('Union of setA and setB => {}'.format(setA | setB))\n",
    "# Intersection\n",
    "print('Intersection of setA and setB => {}'.format(setA & setB))\n",
    "# Difference\n",
    "print('Difference of setA - setB (only in setA) => {}'.format(setA - setB))\n",
    "print('Difference of setB - setA (only in setB) => {}'.format(setB - setA))\n",
    "# Symmetric difference\n",
    "print('Symmetric difference of setA and setB (not the ones in common) => {}'.format(setA ^ setB))\n"
   ]
  },
  {
   "cell_type": "markdown",
   "metadata": {},
   "source": [
    "## Dictionary\n",
    "A dictionary is a sequence of key-value pairs. Some other programing languages call this an associative array or a hashed array. Dictionaries are created using curly braces."
   ]
  },
  {
   "cell_type": "code",
   "execution_count": 5,
   "metadata": {},
   "outputs": [
    {
     "name": "stdout",
     "output_type": "stream",
     "text": [
      "{1: 'one', 2: 'two', 3: [1, 2, 3]}\n",
      "two\n",
      "Added new KV entry {1: 'one', 2: 'two', 3: [1, 2, 3], 'address': 'Amsterdam'}\n",
      "Updated a KV entry {1: 'one', 2: 'two', 3: [1, 2, 3], 'address': 'Rotterdam'}\n",
      "Removed particular item using pop {1: 'one', 3: [1, 2, 3], 'address': 'Rotterdam'}\n",
      "{1: 'one', 3: [1, 2, 3], 'address': 'Rotterdam', 2: 'two'}\n",
      "Removed particular item using del {1: 'one', 3: [1, 2, 3], 'address': 'Rotterdam'}\n",
      "Removed arbitrary item using popitem() {1: 'one', 3: [1, 2, 3], 'address': 'Rotterdam'}\n",
      "Removed all items {}\n",
      "Dictionary created using dict() {4: 'four', 5: 'five', 6: ('raz', 2, 'trzy')}\n",
      "Ranks dictionary {0: 3, 2: 2, 3: 3, 4: 1}\n",
      "Ranks dictionary created from iterable (dict comprehension) {0: 3, 2: 2, 3: 3, 4: 1}\n",
      "Key is in dictionary True\n",
      "Key not in dictionary False\n",
      "Length of ranksDict 4\n"
     ]
    }
   ],
   "source": [
    "# DICTIONARY\n",
    "#\n",
    "aDict = {1 : 'one', 2 : 'two', 3 : [1, 2, 3]}\n",
    "print(aDict)\n",
    "print(aDict[2])\n",
    "aDict['address'] = 'Amsterdam'\n",
    "print('Added new KV entry {}'.format(aDict))\n",
    "aDict['address'] = 'Rotterdam'\n",
    "print('Updated a KV entry {}'.format(aDict))\n",
    "aDict.pop(2)\n",
    "print('Removed particular item using pop {}'.format(aDict))\n",
    "aDict[2] = 'two'\n",
    "print(aDict)\n",
    "del aDict[2]\n",
    "print('Removed particular item using del {}'.format(aDict))\n",
    "aDict[2] = 'two'\n",
    "aDict.popitem()\n",
    "print('Removed arbitrary item using popitem() {}'.format(aDict))\n",
    "aDict.clear()\n",
    "print('Removed all items {}'.format(aDict))\n",
    "secondDict=dict({4: 'four', 5 : 'five', 6 : ('raz', 2, 'trzy')})\n",
    "print('Dictionary created using dict() {}'. format(secondDict))\n",
    "# \n",
    "# Example count unique ranks (from AND pgm test)\n",
    "#\n",
    "ranks = [3, 4, 3, 0, 2, 2, 3, 0, 0]\n",
    "ranks.sort()\n",
    "uniqueRanks = set(ranks)\n",
    "ranksDict = {}\n",
    "for i in uniqueRanks:\n",
    "    ranksDict[i] = ranks.count(i)\n",
    "print('Ranks dictionary {}'. format(ranksDict))\n",
    "# Using dictionary comprehension (create new dict from iterable)\n",
    "ranksDict2 = { i : ranks.count(i) for i in uniqueRanks }\n",
    "print('Ranks dictionary created from iterable (dict comprehension) {}'. format(ranksDict2))\n",
    "# Membership test (for keys)\n",
    "print('Key is in dictionary {}'.format(3 in ranksDict))\n",
    "print('Key not in dictionary {}'.format(5 in ranksDict))\n",
    "# Built-in function\n",
    "print('Length of ranksDict {}'.format(len(ranksDict)))\n"
   ]
  },
  {
   "cell_type": "markdown",
   "metadata": {},
   "source": [
    "## List Comprehension"
   ]
  },
  {
   "cell_type": "code",
   "execution_count": 7,
   "metadata": {},
   "outputs": [
    {
     "name": "stdout",
     "output_type": "stream",
     "text": [
      "Our choclateletters are ['M', 'M', 'B', 'D', 'P', 'H', 'W', 'J']\n",
      "Our choclateletters2 are ['J', 'W', 'H', 'P', 'D', 'B', 'M', 'M']\n",
      "NrsList [0, 2, 4, 6, 8, 10, 12, 14, 16, 18, 20, 22, 24, 26, 28, 30, 32, 34, 36, 38, 40, 42, 44, 46, 48, 50, 52, 54, 56, 58, 60, 62, 64, 66, 68, 70, 72, 74, 76, 78, 80, 82, 84, 86, 88, 90, 92, 94, 96, 98]\n",
      "NrsList [0, 2, 4, 6, 8, 10, 12, 14, 16, 18, 20, 22, 24, 26, 28, 30, 32, 34, 36, 38, 40, 42, 44, 46, 48, 50, 52, 54, 56, 58, 60, 62, 64, 66, 68, 70, 72, 74, 76, 78, 80, 82, 84, 86, 88, 90, 92, 94, 96, 98]\n",
      "NrsList [0, 2, 4, 6, 8, 10, 12, 14, 16, 18, 20, 22, 24, 26, 28, 30, 32, 34, 36, 38, 40, 42, 44, 46, 48, 50, 52, 54, 56, 58, 60, 62, 64, 66, 68, 70, 72, 74, 76, 78, 80, 82, 84, 86, 88, 90, 92, 94, 96, 98]\n"
     ]
    }
   ],
   "source": [
    "# LIST Comprehension (syntax : expression for item in list)\n",
    "#\n",
    "choclateLetters = []\n",
    "for letter in 'MMBDPHWJ':\n",
    "    choclateLetters.append(letter)\n",
    "\n",
    "print('Our choclateletters are {}'.format(choclateLetters))\n",
    "\n",
    "# Using list comprehension\n",
    "choclateLetters2 = [ letter for letter in 'JWHPDBMM' ]\n",
    "print('Our choclateletters2 are {}'.format(choclateLetters2))\n",
    "\n",
    "# Conditionals in list comprehension\n",
    "nrsList = [ i for i in range(100) if i % 2 == 0 ]\n",
    "print('NrsList {}'.format(nrsList))\n",
    "nrsLijst = [ i for i in range(100) if i % 2 == 0 if i % 5 == 0 ]\n",
    "print('NrsList {}'.format(nrsList))\n",
    "nrsLijst = [ i for i in range(100) if i % 5 == 0 if i % 2 == 0 ]\n",
    "print('NrsList {}'.format(nrsList))"
   ]
  },
  {
   "cell_type": "markdown",
   "metadata": {},
   "source": [
    "## Mixed datastructures"
   ]
  },
  {
   "cell_type": "code",
   "execution_count": 8,
   "metadata": {},
   "outputs": [
    {
     "name": "stdout",
     "output_type": "stream",
     "text": [
      "Item is range(0, 100)\n",
      "Item is [1, 'one', 2, 'two', {1: 'raz', 2: 'dwa', 'trzy': 'three'}, [None, True, 'OK', 3.1415]]\n",
      "Item is ('rock', 'ink', 'scissors', 'lizard', 'Starsky', None)\n",
      "Item is {0, 2, 3, 4, 6, 7, 8}\n",
      "Item is {1: 'one', 2: 'two', 3: [1, 2, 3]}\n",
      "[range(0, 100), [1, 'one', 2, 'two', {1: 'raz', 2: 'dwa', 'trzy': 'three'}, [None, True, 'OK', 3.1415]], ('rock', 'ink', 'scissors', 'lizard', 'Starsky', None), {0, 2, 3, 4, 6, 7, 8}, {1: 'one', 2: 'two', 3: [1, 2, 3]}]\n"
     ]
    }
   ],
   "source": [
    "# MIXED DATASTRUCTURES\n",
    "#\n",
    "r = range(100)\n",
    "l = [ 1, 'one', 2, 'two', {1 : 'raz', 2 : 'dwa', 'trzy': 'three'}, [ None, True, 'OK', 3.1415 ]]\n",
    "t = ('rock', 'ink', 'scissors', 'lizard', 'Starsky', None)\n",
    "s = {0, 2, 3, 4, 6, 7, 8}\n",
    "d = {1 : 'one', 2 : 'two', 3 : [1, 2, 3]}\n",
    "mixed = [ r, l, t, s, d ]\n",
    "for i in mixed:\n",
    "    print('Item is {}'.format(i))\n",
    "print(mixed)"
   ]
  },
  {
   "cell_type": "code",
   "execution_count": null,
   "metadata": {},
   "outputs": [],
   "source": []
  }
 ],
 "metadata": {
  "kernelspec": {
   "display_name": "Python 3",
   "language": "python",
   "name": "python3"
  },
  "language_info": {
   "codemirror_mode": {
    "name": "ipython",
    "version": 3
   },
   "file_extension": ".py",
   "mimetype": "text/x-python",
   "name": "python",
   "nbconvert_exporter": "python",
   "pygments_lexer": "ipython3",
   "version": "3.8.3"
  }
 },
 "nbformat": 4,
 "nbformat_minor": 4
}
