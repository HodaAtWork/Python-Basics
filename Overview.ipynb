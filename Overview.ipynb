{
 "cells": [
  {
   "cell_type": "markdown",
   "metadata": {},
   "source": [
    "# Python Overview"
   ]
  },
  {
   "cell_type": "markdown",
   "metadata": {},
   "source": [
    "Some introduction."
   ]
  },
  {
   "cell_type": "code",
   "execution_count": 1,
   "metadata": {},
   "outputs": [
    {
     "name": "stdout",
     "output_type": "stream",
     "text": [
      "Hello world!\n"
     ]
    }
   ],
   "source": [
    "print('Hello world!')"
   ]
  },
  {
   "cell_type": "markdown",
   "metadata": {},
   "source": [
    "## Statements, expressions\n",
    "A statement is a unit of execution; it assigns some value to a variable. An expression is a unit of evaluation and in Python this is a combination of literals, identifiers and operators."
   ]
  },
  {
   "cell_type": "code",
   "execution_count": 4,
   "metadata": {},
   "outputs": [
    {
     "name": "stdout",
     "output_type": "stream",
     "text": [
      "15\n",
      "6 6 6 6\n"
     ]
    }
   ],
   "source": [
    "#assignment is assigning a value to a variable using =\n",
    "a = 15\n",
    "print(a)\n",
    "#multiple assignment\n",
    "a = b = c = d = 6\n",
    "print(a, b, c, d)"
   ]
  },
  {
   "cell_type": "code",
   "execution_count": 5,
   "metadata": {},
   "outputs": [
    {
     "data": {
      "text/plain": [
       "4"
      ]
     },
     "execution_count": 5,
     "metadata": {},
     "output_type": "execute_result"
    }
   ],
   "source": [
    "#operation => operator required for an operation\n",
    "2 * 2 # multiplication (without assignment to a variable)"
   ]
  },
  {
   "cell_type": "code",
   "execution_count": 7,
   "metadata": {},
   "outputs": [
    {
     "name": "stdout",
     "output_type": "stream",
     "text": [
      "[1, 2, 3] (1, 2, 3) ('mouse', [8, 4, 6], (1, 2, 3))\n"
     ]
    }
   ],
   "source": [
    "#aggregate value => some combined values\n",
    "my_list = [1, 2, 3] # a list\n",
    "my_tuple = (1, 2, 3) # a tuple\n",
    "my_other_tuple = (\"mouse\", [8, 4, 6], (1, 2, 3)) # nested tuple met string, list, tuple\n",
    "print(my_list, my_tuple, my_other_tuple)"
   ]
  },
  {
   "cell_type": "code",
   "execution_count": 9,
   "metadata": {},
   "outputs": [
    {
     "name": "stdout",
     "output_type": "stream",
     "text": [
      "1\n",
      "1.2\n",
      "False\n",
      "adg\n",
      "(2+1j)\n",
      "None\n"
     ]
    }
   ],
   "source": [
    "#simple value => simple type\n",
    "x = 1 # int\n",
    "print(x)\n",
    "x = 1.2 # float\n",
    "print(x)\n",
    "print(x == True) # bool\n",
    "x = 'adg' # str\n",
    "print(x)\n",
    "x = 2 + 1j # complex\n",
    "print(x)\n",
    "x = None # null value or NoneType\n",
    "print(x)"
   ]
  },
  {
   "cell_type": "markdown",
   "metadata": {},
   "source": [
    "Builtin constants are:\n",
    "- `True`\n",
    "- `False`\n",
    "- `None`\n",
    "- `NotImplemented`\n",
    "\n",
    "Function call\n",
    "`merciBeaucoup()` Parenthesis needed even without arguments"
   ]
  },
  {
   "cell_type": "markdown",
   "metadata": {},
   "source": [
    "## Indentation and blocks\n",
    "Whitespace is significant in Python. E.g. a block is delimited by indentation; there are parenthesis or brackets to match up indents. So code blocks are defined by their indentation. Blocks can be nested. Loops and conditional statements end with a colon `:` as do functions and other structures introducing blocks. Examples of blocks are modules, function bodies and class definitions."
   ]
  },
  {
   "cell_type": "code",
   "execution_count": 14,
   "metadata": {},
   "outputs": [
    {
     "name": "stdout",
     "output_type": "stream",
     "text": [
      "Huh?\n"
     ]
    }
   ],
   "source": [
    "#block => grouped statements\n",
    "if 2 < 1:\n",
    "    print('this is ok')\n",
    "else:\n",
    "    print('Huh?')"
   ]
  },
  {
   "cell_type": "markdown",
   "metadata": {},
   "source": [
    "## Print\n",
    "Using a pair of curly braces `{}` a variable can be printed"
   ]
  },
  {
   "cell_type": "code",
   "execution_count": 18,
   "metadata": {},
   "outputs": [
    {
     "name": "stdout",
     "output_type": "stream",
     "text": [
      "Hello world\n",
      "This Python version is 3.8.3\n"
     ]
    }
   ],
   "source": [
    "import platform\n",
    "print('Hello world')\n",
    "print('This Python version is {}'.format(platform.python_version()))"
   ]
  },
  {
   "cell_type": "markdown",
   "metadata": {},
   "source": [
    "## Conditionals\n",
    "The if-then construct\n",
    "\n",
    "```python\n",
    "if condition_1:\n",
    "    statement_block_1\n",
    "elif condition_2:\n",
    "    statement_block_2\n",
    "else:\n",
    "    statement_block_3\n",
    "```\n",
    "Block execution depends on True | False outcome of condition.<br>\n",
    "False in Python is:\n",
    "\n",
    "-    numerical zero values (0, 0L, 0.0, 0.0+0.0j),\n",
    "-    the Boolean value False,\n",
    "-    empty strings,\n",
    "-    empty lists and empty tuples,\n",
    "-    empty dictionaries.\n",
    "-    plus the special value None. \n",
    "\n",
    "Abbreviated if-statement (ternary operator); see:"
   ]
  },
  {
   "cell_type": "code",
   "execution_count": 19,
   "metadata": {},
   "outputs": [
    {
     "name": "stdout",
     "output_type": "stream",
     "text": [
      "10\n"
     ]
    }
   ],
   "source": [
    "a = 10\n",
    "b = 7\n",
    "max = a if (a > b) else b\n",
    "print(max)"
   ]
  },
  {
   "cell_type": "markdown",
   "metadata": {},
   "source": [
    "## Loops\n",
    "Iteration in Python"
   ]
  },
  {
   "cell_type": "code",
   "execution_count": 21,
   "metadata": {},
   "outputs": [
    {
     "name": "stdout",
     "output_type": "stream",
     "text": [
      "Sum of 1 to 100 is 5050\n"
     ]
    }
   ],
   "source": [
    "# WHILE loop\n",
    "sum = 0\n",
    "nr = org = 100\n",
    "while nr > 0:\n",
    "    sum = sum + nr\n",
    "    nr = nr -1\n",
    "print(\"Sum of 1 to %d is %d\" % (org, sum) )\n"
   ]
  },
  {
   "cell_type": "code",
   "execution_count": 26,
   "metadata": {},
   "outputs": [
    {
     "name": "stdout",
     "output_type": "stream",
     "text": [
      "New number: 5\n",
      "Number too small\n",
      "New number: 10\n",
      "Number too small\n",
      "New number: 20\n",
      "Number too large\n",
      "New number: 16\n",
      "Number too large\n",
      "New number: 15\n",
      "Number too large\n",
      "New number: 14\n",
      "Congratulation. You made it!\n"
     ]
    }
   ],
   "source": [
    "# WHILE loop with ELSE branche\n",
    "import random\n",
    "n = 20\n",
    "to_be_guessed = int(n * random.random()) + 1\n",
    "guess = 0\n",
    "while guess != to_be_guessed:\n",
    "    guess = int(input(\"New number: \")) # ask for integer input\n",
    "    if guess > 0:\n",
    "        if guess > to_be_guessed:\n",
    "            print(\"Number too large\")\n",
    "        elif guess < to_be_guessed:\n",
    "            print(\"Number too small\")\n",
    "    else:\n",
    "        print(\"Sorry that you're giving up!\")\n",
    "        break\n",
    "else:\n",
    "    print(\"Congratulation. You made it!\")\n"
   ]
  },
  {
   "cell_type": "code",
   "execution_count": 24,
   "metadata": {},
   "outputs": [
    {
     "name": "stdout",
     "output_type": "stream",
     "text": [
      "Brand  Bently\n",
      "Brand  Daimler\n",
      "Brand  Jaguar\n",
      "Brand  Rolls Royce\n"
     ]
    }
   ],
   "source": [
    "# FOR loop\n",
    "cars = ['Bently', 'Daimler', 'Jaguar', 'Rolls Royce']\n",
    "for x in cars:\n",
    "    print(\"Brand \", x)"
   ]
  },
  {
   "cell_type": "markdown",
   "metadata": {},
   "source": [
    "## Functions\n",
    "The `def` keyword defines the function, followed by the name of the function and always parenthesis. In general a function can be called with >= 0 arguments. Arguments are comma separated. A function mostly returns a value."
   ]
  },
  {
   "cell_type": "code",
   "execution_count": 28,
   "metadata": {},
   "outputs": [
    {
     "name": "stdout",
     "output_type": "stream",
     "text": [
      "1 cm = 0.39 inch\n",
      "2 cm = 0.79 inch\n",
      "3 cm = 1.18 inch\n",
      "4 cm = 1.57 inch\n",
      "5 cm = 1.97 inch\n",
      "6 cm = 2.36 inch\n",
      "7 cm = 2.76 inch\n",
      "8 cm = 3.15 inch\n",
      "9 cm = 3.54 inch\n",
      "10 cm = 3.94 inch\n"
     ]
    }
   ],
   "source": [
    "# function definition\n",
    "def cm2inch(cmValue):\n",
    "    return cmValue / 2.54\n",
    "\n",
    "# function call in for loop\n",
    "for x in (1, 2, 3, 4, 5, 6, 7, 8, 9, 10):\n",
    "    # formatted output using string module operator %\n",
    "    print(\"%d cm = %.2f inch\"% (x, cm2inch(x)))"
   ]
  },
  {
   "cell_type": "markdown",
   "metadata": {},
   "source": [
    "## Objects\n",
    "An object is an instantiation of a class. This is the object oriented approach."
   ]
  },
  {
   "cell_type": "code",
   "execution_count": 32,
   "metadata": {},
   "outputs": [
    {
     "name": "stdout",
     "output_type": "stream",
     "text": [
      "True\n",
      "False\n"
     ]
    }
   ],
   "source": [
    "class Bzdura:\n",
    "    pass\n",
    "if __name__ == \"__main__\":\n",
    "    x = Bzdura() # object x\n",
    "    y = Bzdura() # object y\n",
    "    y2 = y\n",
    "    print(y == y2) # should be True. \n",
    "    print(y == x) # should be False; object y not equal to object x\n"
   ]
  },
  {
   "cell_type": "code",
   "execution_count": 31,
   "metadata": {},
   "outputs": [
    {
     "name": "stdout",
     "output_type": "stream",
     "text": [
      "Jestem bez imiona\n",
      "Jestem Henryk\n"
     ]
    }
   ],
   "source": [
    "class Bzdura:\n",
    "    def __init__(self, imie=None): # instantiation method\n",
    "        self.imie = imie\n",
    "\n",
    "    def powiedz_czesc(self):\n",
    "        if self.imie:\n",
    "            print(\"Jestem \" + self.imie)\n",
    "        else:\n",
    "            print(\"Jestem bez imiona\")\n",
    "\n",
    "x = Bzdura()\n",
    "x.powiedz_czesc() # should be without name\n",
    "y = Bzdura(\"Henryk\")\n",
    "y.powiedz_czesc() # should print Henry"
   ]
  },
  {
   "cell_type": "code",
   "execution_count": null,
   "metadata": {},
   "outputs": [],
   "source": []
  }
 ],
 "metadata": {
  "kernelspec": {
   "display_name": "Python 3",
   "language": "python",
   "name": "python3"
  },
  "language_info": {
   "codemirror_mode": {
    "name": "ipython",
    "version": 3
   },
   "file_extension": ".py",
   "mimetype": "text/x-python",
   "name": "python",
   "nbconvert_exporter": "python",
   "pygments_lexer": "ipython3",
   "version": "3.8.3"
  }
 },
 "nbformat": 4,
 "nbformat_minor": 4
}
