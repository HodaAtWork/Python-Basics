{
 "cells": [
  {
   "cell_type": "markdown",
   "metadata": {},
   "source": [
    "# Built In functions\n"
   ]
  },
  {
   "cell_type": "markdown",
   "metadata": {},
   "source": [
    "## Numerical\n",
    "Some of them for int, others for float."
   ]
  },
  {
   "cell_type": "code",
   "execution_count": 1,
   "metadata": {},
   "outputs": [
    {
     "name": "stdout",
     "output_type": "stream",
     "text": [
      "Abs is 12\n",
      "Raied to the power 2 is 144\n",
      "Sum of -12, 10, 3, 8, -4 is 5\n",
      "Max of -12, 10, 3, 8, -4 is 10\n",
      "Min of -12, 10, 3, 8, -4 is -12\n",
      "Reverse of -12, 10, 3, 8, -4 is [-4, 8, 3, 10, -12]\n",
      "Sorted of -12, 10, 3, 8, -4 is [-12, -4, 3, 8, 10]\n",
      "Floor is 3\n",
      "Ceiling is 4\n",
      "Rounded to 4 decimals is 3.1416\n"
     ]
    }
   ],
   "source": [
    "import math\n",
    "myInteger = -12\n",
    "print('Abs is {}'.format(abs(myInteger)))\n",
    "print('Raised to the power 2 is {}'.format(pow(myInteger, 2)))\n",
    "print('Sum of -12, 10, 3, 8, -4 is {}'.format(sum([-12, 10, 3, 8, -4])))\n",
    "print('Max of -12, 10, 3, 8, -4 is {}'.format(max([-12, 10, 3, 8, -4])))\n",
    "print('Min of -12, 10, 3, 8, -4 is {}'.format(min([-12, 10, 3, 8, -4])))\n",
    "print('Reverse of -12, 10, 3, 8, -4 is {}'.format(list(reversed([-12, 10, 3, 8, -4]))))\n",
    "print('Sorted of -12, 10, 3, 8, -4 is {}'.format(sorted([-12, 10, 3, 8, -4])))\n",
    "myFloat = math.pi # 3.1415\n",
    "print('Floor is {}'.format(math.floor(myFloat)))\n",
    "print('Ceiling is {}'.format(math.ceil(myFloat)))\n",
    "print('Rounded to 4 decimals is {}'.format(round(myFloat, 4)))"
   ]
  },
  {
   "cell_type": "markdown",
   "metadata": {},
   "source": [
    "## String\n"
   ]
  },
  {
   "cell_type": "code",
   "execution_count": 2,
   "metadata": {},
   "outputs": [
    {
     "name": "stdout",
     "output_type": "stream",
     "text": [
      "Stringlength is 58\n",
      "Occurrences of \"in\" is 2\n"
     ]
    }
   ],
   "source": [
    "# Built In functions - String\n",
    "#\n",
    "import math\n",
    "myString = \"How is the weather today in The Hague or in 's-Gravenhage?\"\n",
    "print('Stringlength is {}'.format(len(myString)))\n",
    "print('Occurrences of \"in\" is {}'.format(myString.count('in')))"
   ]
  },
  {
   "cell_type": "code",
   "execution_count": 2,
   "metadata": {},
   "outputs": [
    {
     "data": {
      "text/plain": [
       "'3.8.3 (default, Jul  2 2020, 17:30:36) [MSC v.1916 64 bit (AMD64)]'"
      ]
     },
     "execution_count": 2,
     "metadata": {},
     "output_type": "execute_result"
    }
   ],
   "source": [
    "import sys\n",
    "sys.version"
   ]
  },
  {
   "cell_type": "code",
   "execution_count": 3,
   "metadata": {},
   "outputs": [],
   "source": [
    "sys?"
   ]
  },
  {
   "cell_type": "code",
   "execution_count": 4,
   "metadata": {},
   "outputs": [
    {
     "data": {
      "text/plain": [
       "'C:\\\\Users\\\\Rodzinka\\\\anaconda3'"
      ]
     },
     "execution_count": 4,
     "metadata": {},
     "output_type": "execute_result"
    }
   ],
   "source": [
    "sys.prefix"
   ]
  },
  {
   "cell_type": "code",
   "execution_count": null,
   "metadata": {},
   "outputs": [],
   "source": []
  }
 ],
 "metadata": {
  "kernelspec": {
   "display_name": "Python 3",
   "language": "python",
   "name": "python3"
  },
  "language_info": {
   "codemirror_mode": {
    "name": "ipython",
    "version": 3
   },
   "file_extension": ".py",
   "mimetype": "text/x-python",
   "name": "python",
   "nbconvert_exporter": "python",
   "pygments_lexer": "ipython3",
   "version": "3.8.3"
  }
 },
 "nbformat": 4,
 "nbformat_minor": 4
}
