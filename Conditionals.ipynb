{
 "cells": [
  {
   "cell_type": "markdown",
   "metadata": {},
   "source": [
    "# Conditionals"
   ]
  },
  {
   "cell_type": "code",
   "execution_count": 1,
   "metadata": {},
   "outputs": [
    {
     "name": "stdout",
     "output_type": "stream",
     "text": [
      "elif True\n"
     ]
    }
   ],
   "source": [
    "# Conditional Syntax\n",
    "#\n",
    "if False:\n",
    "    print('if False')\n",
    "elif True:\n",
    "    print('elif True')\n",
    "else:\n",
    "    print('no conditional statement is True')"
   ]
  },
  {
   "cell_type": "code",
   "execution_count": 2,
   "metadata": {},
   "outputs": [
    {
     "name": "stdout",
     "output_type": "stream",
     "text": [
      "elif 3 True\n"
     ]
    }
   ],
   "source": [
    "# Conditional Syntax\n",
    "#\n",
    "if False:\n",
    "    print('if True')\n",
    "elif False:\n",
    "    print('elif 1 True')\n",
    "elif False:\n",
    "    print('elif 2 True')\n",
    "elif True:\n",
    "    print('elif 3 True')\n",
    "elif False:\n",
    "    print('elif 4 True')\n",
    "else:\n",
    "    print('no conditional statement is True ')"
   ]
  },
  {
   "cell_type": "code",
   "execution_count": 4,
   "metadata": {},
   "outputs": [
    {
     "name": "stdout",
     "output_type": "stream",
     "text": [
      "no conditional statement is True \n"
     ]
    }
   ],
   "source": [
    "# Conditional Syntax\n",
    "#\n",
    "x = 5 # also try this with 17\n",
    "if x == 0:\n",
    "    print('zero True')\n",
    "elif x == 1:\n",
    "    print('elif 1 True')\n",
    "elif x == 2:\n",
    "    print('elif 2 True')\n",
    "elif x == 3:\n",
    "    print('elif 3 True')\n",
    "elif x == 4:\n",
    "    print('elif 4 True')\n",
    "elif x == 5:\n",
    "    print('elif 5 True')\n",
    "else:\n",
    "    print('no conditional statement is True ')"
   ]
  },
  {
   "cell_type": "markdown",
   "metadata": {},
   "source": [
    "## Assignment "
   ]
  },
  {
   "cell_type": "code",
   "execution_count": 5,
   "metadata": {},
   "outputs": [
    {
     "name": "stdout",
     "output_type": "stream",
     "text": [
      "Retired: False\n",
      "Retirement status: still 3 years until retirement\n"
     ]
    }
   ],
   "source": [
    "# Conditional Assignment\n",
    "# (ternary operator)\n",
    "#\n",
    "age=65\n",
    "retired=True if age >= 68 else False  \n",
    "print('Retired: {}'.format(retired))\n",
    "\n",
    "retired='retired for '+str(age-68)+' years' if age >= 68 else 'still '+str(68-age)+' years until retirement'\n",
    "print('Retirement status: {}'.format(retired))"
   ]
  },
  {
   "cell_type": "markdown",
   "metadata": {},
   "source": [
    "## Identity operator \n",
    "Identity operators compare objects, not if they are equal, but if they are actually the same object."
   ]
  },
  {
   "cell_type": "code",
   "execution_count": 6,
   "metadata": {},
   "outputs": [
    {
     "name": "stdout",
     "output_type": "stream",
     "text": [
      "Name and nom are identical? True\n",
      "Name and nom are equal? True\n",
      "Lists are identical? False\n",
      "Lists are equal? True\n"
     ]
    }
   ],
   "source": [
    "name='Henry'\n",
    "nom = name\n",
    "identical = nom is name\n",
    "print('Name and nom are identical? {}'.format(identical))\n",
    "\n",
    "print('Name and nom are equal? {}'.format(nom==name))\n",
    "\n",
    "\n",
    "# example with list\n",
    "aList=[1, 2, 3]\n",
    "anotherList = list(aList) # anotherList is a copy of aList\n",
    "print('Lists are identical? {}'.format(aList is anotherList))\n",
    "print('Lists are equal? {}'. format(aList == anotherList))"
   ]
  },
  {
   "cell_type": "code",
   "execution_count": null,
   "metadata": {},
   "outputs": [],
   "source": []
  }
 ],
 "metadata": {
  "kernelspec": {
   "display_name": "Python 3",
   "language": "python",
   "name": "python3"
  },
  "language_info": {
   "codemirror_mode": {
    "name": "ipython",
    "version": 3
   },
   "file_extension": ".py",
   "mimetype": "text/x-python",
   "name": "python",
   "nbconvert_exporter": "python",
   "pygments_lexer": "ipython3",
   "version": "3.8.3"
  }
 },
 "nbformat": 4,
 "nbformat_minor": 4
}
