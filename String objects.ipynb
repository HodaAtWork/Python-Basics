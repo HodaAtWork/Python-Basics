{
 "cells": [
  {
   "cell_type": "markdown",
   "metadata": {},
   "source": [
    "# String objects\n",
    "As from Python 3 strings are first class objects. A string has a number of useful methods."
   ]
  },
  {
   "cell_type": "markdown",
   "metadata": {},
   "source": [
    "## Methods"
   ]
  },
  {
   "cell_type": "code",
   "execution_count": 2,
   "metadata": {},
   "outputs": [
    {
     "name": "stdout",
     "output_type": "stream",
     "text": [
      "Hello World\n",
      "length of string 11\n",
      "Uppercase of string HELLO WORLD\n",
      "Lowercase of string hello world\n",
      "3359\n",
      "number converted to string 3359\n",
      "Zij zou zo zeer zachtjes zeggen: zouden zeven zeer zware zwarte zwanen zo zeer zachtjes zwemmen zonder zwemvliezen?\n",
      "number of small z in zString 18\n",
      "Total number of z in zString 19\n",
      "Index of searched word `zachtjes` 16\n",
      "Index of 2nd searched word `zachtjes` 79\n",
      "Replace word `zeggen` by `zuchten`: zij zou zo zeer zachtjes zuchten: zouden zeven zeer zware zwarte zwanen zo zeer zachtjes zwemmen zonder zwemvliezen?\n",
      "Reversed sentence ?nezeilvmewz rednoz nemmewz sejthcaz reez oz nenawz etrawz erawz reez nevez neduoz :neggez sejthcaz reez oz uoz jiz\n",
      "Capitalize sentence: koopt elders niet wat Ten Boer u biedt => Koopt elders niet wat ten boer u biedt\n",
      "Exchange capitals and small letters: KOOPT ELDERS NIET WAT tEN bOER U BIEDT =>\n",
      "lowercase sentence: zolw wystepujacy we wroclawiu to gatunek slaski =>\n",
      "casefold sentence: zolw wystepujacy we wroclawiu to gatunek slaski =>\n"
     ]
    }
   ],
   "source": [
    "# Overview String Objects\n",
    "#\n",
    "myHello = 'Hello World'\n",
    "print(myHello)\n",
    "# len()\n",
    "print('length of string {}'.format(len(myHello)))\n",
    "# upper()\n",
    "print('Uppercase of string {}'.format(myHello.upper()))\n",
    "# lower()\n",
    "print('Lowercase of string {}'.format(myHello.lower()))\n",
    "myNumber = 3359\n",
    "print(myNumber)\n",
    "# str()\n",
    "print('number converted to string {}'.format(str(myNumber)))\n",
    "zString = 'Zij zou zo zeer zachtjes zeggen: zouden zeven zeer zware zwarte zwanen zo zeer zachtjes zwemmen zonder zwemvliezen?'\n",
    "print(zString)\n",
    "# count()\n",
    "print('number of small z in zString {}'.format(zString.count('z')))\n",
    "zString = zString.lower()\n",
    "print('Total number of z in zString {}'.format(zString.count('z')))\n",
    "# find()\n",
    "print('Index of searched word `zachtjes` {}'.format(zString.find('zachtjes')))\n",
    "print('Index of 2nd searched word `zachtjes` {}'.format(zString.find('zachtjes', 17, len(zString))))\n",
    "# replace()\n",
    "print('Replace word `zeggen` by `zuchten`: {}'.format(zString.replace('zeggen', 'zuchten')))\n",
    "# reverse a string\n",
    "print('Reversed sentence {}'.format(zString[::-1]))\n",
    "\n",
    "# capitalize()\n",
    "capitalizeString = 'koopt elders niet wat Ten Boer u biedt'\n",
    "print('Capitalize sentence: {0} => {1}'.format(capitalizeString, capitalizeString.capitalize()))\n",
    "# swapcase()\n",
    "print('Exchange capitals and small letters: {} =>'.format(capitalizeString.swapcase()))\n",
    "# casefold() Zo niet te testen vanwege UTF-8\n",
    "# in Python command mode met PowerShell alleen effect gezzien met ringel-s\n",
    "polskieZdanie = 'Zolw wystepujacy we Wroclawiu to gatunek Slaski'\n",
    "print('lowercase sentence: {} =>'.format(polskieZdanie.lower()))\n",
    "print('casefold sentence: {} =>'.format(polskieZdanie.casefold()))\n",
    "\n"
   ]
  },
  {
   "cell_type": "markdown",
   "metadata": {},
   "source": [
    "## Formatting strings"
   ]
  },
  {
   "cell_type": "code",
   "execution_count": 8,
   "metadata": {},
   "outputs": [
    {
     "name": "stdout",
     "output_type": "stream",
     "text": [
      "Type of Hello World is: <class 'str'>\n",
      "Yesterday I visited the Dutch town of 's-Hertogenbosch\n",
      "Martha said \"Hi dad\"\n",
      "Line 1, line 2, line 3 and line 4 printed as if on 1 line\n",
      "% FORMATTING\n",
      "Hello Henry\n",
      "Hello Henry. You are 59 yeard old \n",
      "Hello Henry. You are 59 yeard old and 1.76 long \n",
      "format() FORMATTING\n",
      "Hello Henry\n",
      "Hello Henry. You are 59 years old \n",
      "Hello Henry. You are 59 years old and 1.76 long \n",
      "Hi Henry. You are 59 years old and 1.76 long\n",
      "f-Strings FORMATTING\n",
      "Hello Henry. You are 59 years old\n",
      "Hello Henry. You are 59 years old and 1.76 long\n",
      "Hello HENRY\n",
      "Hi Henry. You are 59 years old and 1.76 long\n",
      "Age / height is 33.52272727272727\n",
      "Age / height is 33.52272727272727\n"
     ]
    }
   ],
   "source": [
    "# Formatting Strings\n",
    "#\n",
    "myHello = 'Hello World'\n",
    "# type\n",
    "print('Type of {0} is: {1}'.format(myHello, type(myHello)))\n",
    "\n",
    "# escape char single quotes string\n",
    "print('Yesterday I visited the Dutch town of \\'s-Hertogenbosch')\n",
    "\n",
    "# escape char double quotes string\n",
    "print(\"Martha said \\\"Hi dad\\\"\")\n",
    "\n",
    "# Ignore newline char\n",
    "sentence = 'Line 1, \\\n",
    "line 2, \\\n",
    "line 3 and \\\n",
    "line 4 printed as if on 1 line'\n",
    "print(sentence)\n",
    "\n",
    "# formatting \n",
    "name = 'Henry'\n",
    "age = 59\n",
    "height = 1.76\n",
    "\n",
    "# formatting with %\n",
    "print('% FORMATTING')\n",
    "print('Hello %s'% name)\n",
    "print('Hello %s. You are %s yeard old '% (name, age))\n",
    "print('Hello %s. You are %s yeard old and %s long '% (name, age, height))\n",
    "\n",
    "# formatting with format()\n",
    "print('format() FORMATTING')\n",
    "print('Hello {}'.format(name))\n",
    "print('Hello {}. You are {} years old '.format(name, age))\n",
    "print('Hello {2}. You are {0} years old and {1} long '.format(age, height, name))\n",
    "myDict = {'name': 'Henry', 'age': 59, 'height': 1.76}\n",
    "print('Hi {name}. You are {age} years old and {length} long'.format(name=myDict['name'], age=myDict['age'], length=myDict['height']))\n",
    "\n",
    "# formatting with f-Strings\n",
    "print('f-Strings FORMATTING')\n",
    "print(f'Hello {name}. You are {age} years old')\n",
    "print(f'Hello {name}. You are {age} years old and {height} long')\n",
    "print(f'Hello {name.upper()}')\n",
    "print(f\"Hi {myDict['name']}. You are {myDict['age']} years old and {myDict['height']} long\")\n",
    "z = age / height\n",
    "print(f'Age / height is {z}')\n",
    "print(f'Age / height is {age/height}') # watch use of curly braces"
   ]
  },
  {
   "cell_type": "code",
   "execution_count": null,
   "metadata": {},
   "outputs": [],
   "source": []
  }
 ],
 "metadata": {
  "kernelspec": {
   "display_name": "Python 3",
   "language": "python",
   "name": "python3"
  },
  "language_info": {
   "codemirror_mode": {
    "name": "ipython",
    "version": 3
   },
   "file_extension": ".py",
   "mimetype": "text/x-python",
   "name": "python",
   "nbconvert_exporter": "python",
   "pygments_lexer": "ipython3",
   "version": "3.8.3"
  }
 },
 "nbformat": 4,
 "nbformat_minor": 4
}
