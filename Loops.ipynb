{
 "cells": [
  {
   "cell_type": "markdown",
   "metadata": {},
   "source": [
    "# Loops\n",
    "Python has two basic forms of loops, while loops and for loops."
   ]
  },
  {
   "cell_type": "markdown",
   "metadata": {},
   "source": [
    "## FOR loop"
   ]
  },
  {
   "cell_type": "code",
   "execution_count": 2,
   "metadata": {},
   "outputs": [
    {
     "name": "stdout",
     "output_type": "stream",
     "text": [
      "D\n",
      "z\n",
      "i\n",
      "e\n",
      "n\n",
      " \n",
      "d\n",
      "o\n",
      "b\n",
      "r\n",
      "y\n",
      "Hello again\n",
      "Hello again\n",
      "Hello again\n",
      "Hello again\n",
      "Hello again\n",
      "Hello again\n",
      "Hello again\n",
      "Hello again\n",
      "Pet bear\n",
      "Pet dog\n",
      "Pet velociraptor\n",
      "Value  0\n",
      "Value  1\n",
      "Value  2\n",
      "Value  3\n",
      "Value  4\n",
      "Pet item bear\n",
      "Pet item bunny\n",
      "Pet item dog\n",
      "Pet item cat\n",
      "Pet item velociraptor\n",
      "Pet in list bear\n",
      "Pet in list bunny\n",
      "Pet in list dog\n",
      "Pet in list cat\n",
      "Pet in list velociraptor\n"
     ]
    }
   ],
   "source": [
    "pets = ['bear', 'bunny', 'dog', 'cat', 'velociraptor']\n",
    "for char in 'Dzien dobry':\n",
    "    print(char)\n",
    "\n",
    "for x in range(2**3):\n",
    "    print('Hello again')\n",
    "\n",
    "for i in range(0, 5, 2):\n",
    "    print('Pet {}'.format(pets[i]))\n",
    "\n",
    "for x in range(5):\n",
    "    print(\"Value \", x)\n",
    "\n",
    "for i in pets:\n",
    "    print('Pet item {}'.format(i))\n",
    "\n",
    "for x in range(0, len(pets)):\n",
    "    print('Pet in list {}'.format(pets[x]))"
   ]
  },
  {
   "cell_type": "markdown",
   "metadata": {},
   "source": [
    "## WHILE loop"
   ]
  },
  {
   "cell_type": "code",
   "execution_count": 3,
   "metadata": {},
   "outputs": [
    {
     "name": "stdout",
     "output_type": "stream",
     "text": [
      "password is Zwordfish\n",
      "password is Swordfish\n",
      "Sum of 1 to 100 is 5050\n"
     ]
    }
   ],
   "source": [
    "# Example 1 (loop is left only if correct pwd is entered)\n",
    "secret='Swordfish'\n",
    "pw=''\n",
    "while pw != secret:\n",
    "    pw = input('password is ')\n",
    "\n",
    "# Example 2 \n",
    "sum = 0\n",
    "nr = org = 100\n",
    "while nr > 0:\n",
    "    sum = sum + nr\n",
    "    nr = nr -1\n",
    "print(\"Sum of 1 to %d is %d\" % (org, sum) )"
   ]
  },
  {
   "cell_type": "code",
   "execution_count": 4,
   "metadata": {},
   "outputs": [
    {
     "name": "stdout",
     "output_type": "stream",
     "text": [
      "Enter password Zwordfish\n",
      "Enter password Zwaardvis\n",
      "Enter password Degenvis\n",
      "Enter password Swordfish\n",
      "OK password correctly entered in 4th attempt\n"
     ]
    }
   ],
   "source": [
    "# WHILE loop with ELSE branch\n",
    "#\n",
    "secret = 'Swordfish'\n",
    "pw = ''\n",
    "nr = 0\n",
    "while pw != secret:\n",
    "    if nr <= 10:\n",
    "        pw = input('Enter password ')\n",
    "        nr += 1\n",
    "    else:\n",
    "        print('Not guessed after 10 attempts')\n",
    "        break\n",
    "else:\n",
    "    print('OK password correctly entered in {}th attempt'.format(nr))"
   ]
  },
  {
   "cell_type": "markdown",
   "metadata": {},
   "source": [
    "## Additional loop controls"
   ]
  },
  {
   "cell_type": "code",
   "execution_count": 8,
   "metadata": {},
   "outputs": [
    {
     "name": "stdout",
     "output_type": "stream",
     "text": [
      "New number: 90\n",
      "Number too large\n",
      "New number: 0\n",
      "Sorry that you're giving up!\n"
     ]
    }
   ],
   "source": [
    "# WHILE with BREAK and ELSE\n",
    "import random\n",
    "n = 20\n",
    "to_be_guessed = int(n * random.random()) + 1\n",
    "guess = 0\n",
    "while guess != to_be_guessed:\n",
    "    guess = int(input(\"New number: \"))\n",
    "    if guess > 0:\n",
    "        if guess > to_be_guessed:\n",
    "            print(\"Number too large\")\n",
    "        elif guess < to_be_guessed:\n",
    "            print(\"Number too small\")\n",
    "    else:\n",
    "        print(\"Sorry that you're giving up!\")\n",
    "        break\n",
    "else:\n",
    "    print(\"Congratulations. You made it!\")    "
   ]
  },
  {
   "cell_type": "code",
   "execution_count": 6,
   "metadata": {},
   "outputs": [
    {
     "name": "stdout",
     "output_type": "stream",
     "text": [
      "Number is 1\n",
      "Number is 2\n",
      "Number is 3\n",
      "Number is 4\n",
      "Out of loop\n"
     ]
    }
   ],
   "source": [
    "# FOR with BREAK\n",
    "nr = 0\n",
    "for nr in range(10):\n",
    "   nr = nr + 1\n",
    "   if nr == 5:\n",
    "      break    # break here\n",
    "   print('Number is {}'.format(nr))\n",
    "print('Out of loop')"
   ]
  },
  {
   "cell_type": "code",
   "execution_count": 9,
   "metadata": {},
   "outputs": [
    {
     "name": "stdout",
     "output_type": "stream",
     "text": [
      "0\n",
      "1\n",
      "2\n",
      "3\n",
      "4\n",
      "5\n",
      "6\n",
      "7\n",
      "8\n",
      "9\n",
      "Else executed because there is no Break\n"
     ]
    }
   ],
   "source": [
    "# FOR with ELSE\n",
    "for i in range(0, 10): \n",
    "    print(i) \n",
    "else:  # Executed because no break in for \n",
    "    print('Else executed because there is no Break') "
   ]
  },
  {
   "cell_type": "code",
   "execution_count": null,
   "metadata": {},
   "outputs": [],
   "source": []
  }
 ],
 "metadata": {
  "kernelspec": {
   "display_name": "Python 3",
   "language": "python",
   "name": "python3"
  },
  "language_info": {
   "codemirror_mode": {
    "name": "ipython",
    "version": 3
   },
   "file_extension": ".py",
   "mimetype": "text/x-python",
   "name": "python",
   "nbconvert_exporter": "python",
   "pygments_lexer": "ipython3",
   "version": "3.8.3"
  }
 },
 "nbformat": 4,
 "nbformat_minor": 4
}
