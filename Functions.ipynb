{
 "cells": [
  {
   "cell_type": "markdown",
   "metadata": {},
   "source": [
    "# Functions\n",
    "Functions are the basic unit of reusable code in Python. Function arguments in Python are fairly straightforward.\n",
    "\n"
   ]
  },
  {
   "cell_type": "markdown",
   "metadata": {},
   "source": [
    "## Function arguments"
   ]
  },
  {
   "cell_type": "code",
   "execution_count": 2,
   "metadata": {},
   "outputs": [
    {
     "name": "stdout",
     "output_type": "stream",
     "text": [
      "Now count down from: five, four, three, two, one: Miauw\n",
      "1. Hello William, Everything OK?\n",
      "2. Hello John, Default message\n",
      "2. Hello John, Given message\n",
      "3. Hello Default name, Default message\n",
      "3. Hello Burt, Given message\n"
     ]
    }
   ],
   "source": [
    "#\n",
    "# Special variable __name__ as main unit of execution (not as module)\n",
    "#\n",
    "# if __name__ == '__main__': main() \n",
    "# special value '__main__' means not imported but a main file\n",
    "#\n",
    "def main():\n",
    "    # args == function args\n",
    "    kitten('one', 'two', 'three', 'four', 'five')\n",
    "    # missing argument results in TypeError, as in this call:\n",
    "    #    kitten('one', 'two', 'three', 'four')\n",
    "    ave('William', 'Everything OK?')\n",
    "    # Default arguments (args < function args) \n",
    "    ave2('John')\n",
    "    ave2('John', 'Given message')\n",
    "    ave3()\n",
    "    ave3('Burt', 'Given message')\n",
    "#    ave3('Burt', 'Pleasant day')\n",
    "\n",
    "def kitten(a, b, c, d, e):\n",
    "    print('Now count down from:', e + ', ' + d + ', ' + c + ', ' + b + ', ' + a + ': Miauw')\n",
    "\n",
    "def ave(name, message):\n",
    "    print('1. Hello', name + ', ' + message)\n",
    "\n",
    "def ave2(name, message='Default message'):\n",
    "    print('2. Hello', name + ', ' + message)\n",
    "\n",
    "def ave3(name='Default name', message='Default message'):\n",
    "    print('3. Hello', name + ', ' + message)\n",
    "\n",
    "# non-default arguments cannot follow default arguments. Function below results in syntax error\n",
    "#\n",
    "#def ave3(name='Default name', message):\n",
    "#    print('3. Hello', name + ', ' + message)\n",
    "\n",
    "if __name__ == '__main__': main()\n"
   ]
  },
  {
   "cell_type": "markdown",
   "metadata": {},
   "source": [
    "## Function argument list"
   ]
  },
  {
   "cell_type": "code",
   "execution_count": 4,
   "metadata": {},
   "outputs": [
    {
     "name": "stdout",
     "output_type": "stream",
     "text": [
      "Regards to Nick\n",
      "Regards to Burt\n",
      "Regards to William\n",
      "Regards to John\n",
      "No one to greet\n",
      "1st: one\n",
      "2nd: two\n",
      "the rest: ['three', 'four', 'five']\n",
      "Added up: 15\n",
      "First is: 1\n"
     ]
    }
   ],
   "source": [
    "# Special variable __name__ as main unit of execution (not as module)\n",
    "#\n",
    "# if __name__ == '__main__': main() \n",
    "# special value '__main__' means not imported but a main file\n",
    "#\n",
    "def main():\n",
    "    # argument list\n",
    "    greet('Regards to', 'Nick', 'Burt', 'William', 'John')\n",
    "    greet('Regards to')\n",
    "    tel('one', 'two', 'three', 'four', 'five')\n",
    "    test(1, 2, 3, 4, 5, action = 'suma', number = 'pierwszy')\n",
    "\n",
    "def greet(message, *args):\n",
    "    if len(args) > 0:\n",
    "        for i in args:\n",
    "            print(message, i)\n",
    "    else:\n",
    "        print('No one to greet')\n",
    "\n",
    "def tel(first, second, *therest):\n",
    "    print('1st: %s'%(first))\n",
    "    print('2nd: %s'%(second))\n",
    "    print('the rest: %s'%(list(therest)))\n",
    "\n",
    "# function argument in options list\n",
    "# special use of keyword arguments\n",
    "def test(first, second, third, fourth, fifth, **options):\n",
    "    if options.get('action') == 'suma':\n",
    "        print('Added up: %d' %(first + second + third + fourth + fifth))\n",
    "    if options.get('number') == 'pierwszy':\n",
    "        print('First is: %d' %(first))\n",
    "\n",
    "\n",
    "if __name__ == '__main__': main() "
   ]
  },
  {
   "cell_type": "markdown",
   "metadata": {},
   "source": [
    "## Function keyword arguments\n",
    "Keyword arguments or named arguments. Keyword arguments are dictionaries."
   ]
  },
  {
   "cell_type": "code",
   "execution_count": 5,
   "metadata": {},
   "outputs": [
    {
     "name": "stdout",
     "output_type": "stream",
     "text": [
      "Now count down: piec, cztery, trzy, dwa, raz: Meow\n",
      "Now count down: piec, cztery, trzy, dwa, raz: Meow\n",
      "Now count down: piec, cztery, trzy, dwa, raz: Meow\n",
      "Now count down: {'a': 'raz', 'b': 'dwa', 'c': 'trzy', 'd': 'cztery', 'e': 'piec'}\n",
      "raz\n",
      "dwa\n",
      "trzy\n",
      "cztery\n",
      "piec\n"
     ]
    }
   ],
   "source": [
    "# Special variable __name__ as main unit of execution (not as module)\n",
    "#\n",
    "# if __name__ == '__main__': main() \n",
    "# special value '__main__' means not imported but a main file\n",
    "#\n",
    "def main():\n",
    "    # positional arguments\n",
    "    kitten('raz', 'dwa', 'trzy', 'cztery', 'piec')\n",
    "    # keyword arguments\n",
    "    kitten(a = 'raz', b = 'dwa', c = 'trzy', d = 'cztery', e = 'piec')\n",
    "    # keyword arguments in different order\n",
    "    kitten(a = 'raz', b = 'dwa', d = 'cztery', e = 'piec', c = 'trzy')\n",
    "    kitten2(a = 'raz', b = 'dwa', c = 'trzy', d = 'cztery', e = 'piec')\n",
    "\n",
    "def kitten(a, b, c, d, e):\n",
    "    print('Now count down:', e + ', ' + d + ', ' + c + ', ' + b + ', ' + a + ': Meow')\n",
    "\n",
    "def kitten2(**options):\n",
    "    print('Now count down: %s' %(options))\n",
    "    for key, value in options.items():\n",
    "        print(value)\n",
    "\n",
    "if __name__ == '__main__': main()"
   ]
  },
  {
   "cell_type": "markdown",
   "metadata": {},
   "source": [
    "## Generator"
   ]
  },
  {
   "cell_type": "code",
   "execution_count": 10,
   "metadata": {},
   "outputs": [
    {
     "name": "stdout",
     "output_type": "stream",
     "text": [
      "<generator object reverse at 0x0000018AE178D200>\n",
      "Starting\n",
      "n\n",
      "o\n",
      "t\n",
      "p\n",
      "m\n",
      "a\n",
      "h\n",
      "t\n",
      "u\n",
      "o\n",
      "S\n",
      "1\n",
      "2\n",
      "4\n",
      "8\n",
      "16\n",
      "Starting\n",
      "5\n"
     ]
    }
   ],
   "source": [
    "# GENERATOR statement\n",
    "# Special variable __name__ as main unit of execution (not as module)\n",
    "#\n",
    "# if __name__ == '__main__': main() \n",
    "# special value '__main__' means not imported but a main file\n",
    "#\n",
    "def main():\n",
    "    reversedString = reverse('Southampton')\n",
    "    print(reversedString)\n",
    "    for char in reverse('Southampton'):\n",
    "        print(char)\n",
    "\n",
    "    for i in PowTwoGen(5):\n",
    "        print(i)\n",
    "\n",
    "    val = countDown(5)\n",
    "    print(next(val))\n",
    "\n",
    "\n",
    "# yield statement\n",
    "def reverse(myString):\n",
    "    \"\"\"This function yields items instead\n",
    "    of returning a list\"\"\"\n",
    "    print(\"Starting\")\n",
    "    length = len(myString)\n",
    "    for i in range(length - 1, -1, -1):\n",
    "        yield myString[i]\n",
    "\n",
    "def PowTwoGen(max = 0):\n",
    "    n = 0\n",
    "    while n < max:\n",
    "        yield 2 ** n\n",
    "        n += 1\n",
    "\n",
    "def countDown(num):\n",
    "    print(\"Starting\")\n",
    "    while num > 0:\n",
    "        yield num\n",
    "        num -= 1\n",
    "        \n",
    "if __name__ == '__main__': main()"
   ]
  },
  {
   "cell_type": "markdown",
   "metadata": {},
   "source": [
    "## Inner function"
   ]
  },
  {
   "cell_type": "code",
   "execution_count": 11,
   "metadata": {},
   "outputs": [
    {
     "name": "stdout",
     "output_type": "stream",
     "text": [
      "Meouw\n",
      "Printing from parent() function\n",
      "Printing from secondChild() function\n",
      "Printing from firstChild() function\n"
     ]
    },
    {
     "ename": "NameError",
     "evalue": "name 'firstChild' is not defined",
     "output_type": "error",
     "traceback": [
      "\u001b[1;31m---------------------------------------------------------------------------\u001b[0m",
      "\u001b[1;31mNameError\u001b[0m                                 Traceback (most recent call last)",
      "\u001b[1;32m<ipython-input-11-6a5aa314e4fc>\u001b[0m in \u001b[0;36m<module>\u001b[1;34m\u001b[0m\n\u001b[0;32m     32\u001b[0m \u001b[1;33m\u001b[0m\u001b[0m\n\u001b[0;32m     33\u001b[0m \u001b[1;33m\u001b[0m\u001b[0m\n\u001b[1;32m---> 34\u001b[1;33m \u001b[1;32mif\u001b[0m \u001b[0m__name__\u001b[0m \u001b[1;33m==\u001b[0m \u001b[1;34m'__main__'\u001b[0m\u001b[1;33m:\u001b[0m \u001b[0mmain\u001b[0m\u001b[1;33m(\u001b[0m\u001b[1;33m)\u001b[0m\u001b[1;33m\u001b[0m\u001b[1;33m\u001b[0m\u001b[0m\n\u001b[0m",
      "\u001b[1;32m<ipython-input-11-6a5aa314e4fc>\u001b[0m in \u001b[0;36mmain\u001b[1;34m()\u001b[0m\n\u001b[0;32m     10\u001b[0m     \u001b[0mprint\u001b[0m\u001b[1;33m(\u001b[0m\u001b[0mx\u001b[0m\u001b[1;33m)\u001b[0m\u001b[1;33m\u001b[0m\u001b[1;33m\u001b[0m\u001b[0m\n\u001b[0;32m     11\u001b[0m     \u001b[0mparent\u001b[0m\u001b[1;33m(\u001b[0m\u001b[1;33m)\u001b[0m\u001b[1;33m\u001b[0m\u001b[1;33m\u001b[0m\u001b[0m\n\u001b[1;32m---> 12\u001b[1;33m     \u001b[0mfirstChild\u001b[0m\u001b[1;33m(\u001b[0m\u001b[1;33m)\u001b[0m \u001b[1;31m# should raise a NameError\u001b[0m\u001b[1;33m\u001b[0m\u001b[1;33m\u001b[0m\u001b[0m\n\u001b[0m\u001b[0;32m     13\u001b[0m \u001b[1;33m\u001b[0m\u001b[0m\n\u001b[0;32m     14\u001b[0m \u001b[1;32mdef\u001b[0m \u001b[0mkitten\u001b[0m\u001b[1;33m(\u001b[0m\u001b[1;33m)\u001b[0m\u001b[1;33m:\u001b[0m\u001b[1;33m\u001b[0m\u001b[1;33m\u001b[0m\u001b[0m\n",
      "\u001b[1;31mNameError\u001b[0m: name 'firstChild' is not defined"
     ]
    }
   ],
   "source": [
    "# Special variable __name__ as main unit of execution (not as module)\n",
    "#\n",
    "# if __name__ == '__main__': main() \n",
    "# special value '__main__' means not imported but a main file\n",
    "#\n",
    "def main():\n",
    "    x=kitten()\n",
    "    print(x)\n",
    "    parent()\n",
    "    firstChild() # should raise a NameError\n",
    "\n",
    "def kitten():\n",
    "    return 'Meouw'\n",
    "\n",
    "# inner function\n",
    "def parent():\n",
    "    print('Printing from parent() function')\n",
    "\n",
    "    def firstChild():\n",
    "        print('Printing from firstChild() function')\n",
    "\n",
    "    def secondChild():\n",
    "        print('Printing from secondChild() function')\n",
    "\n",
    "    secondChild()\n",
    "    firstChild()\n",
    "\n",
    "\n",
    "if __name__ == '__main__': main()"
   ]
  },
  {
   "cell_type": "markdown",
   "metadata": {},
   "source": [
    "## Return"
   ]
  },
  {
   "cell_type": "code",
   "execution_count": 12,
   "metadata": {},
   "outputs": [
    {
     "name": "stdout",
     "output_type": "stream",
     "text": [
      "Hello, Robert. Good day!\n",
      "None\n",
      "The cat says: None (no return)\n",
      "The cat says: Meow (return)\n",
      "['adult', 21]\n",
      "['youngster', 20]\n",
      "{1: 'A', 2: 'B', 3: 'C'}\n",
      "Hello Henry\n",
      "Well Henry together we are great!\n",
      "Hello, I am Burt\n",
      "Hello, I ma Gerald\n"
     ]
    }
   ],
   "source": [
    "# Special variable __name__ as main unit of execution (not as module)\n",
    "#\n",
    "# if __name__ == '__main__': main() \n",
    "# special value '__main__' means not imported but a main file\n",
    "#\n",
    "def main():\n",
    "    print(greet('Robert'))\n",
    "    x=kitten()\n",
    "    print('The cat says:', x , '(no return)')\n",
    "    x=kitten2()\n",
    "    print('The cat says:', x , '(return)')\n",
    "    print(grown_up(21))\n",
    "    print(grown_up(20))\n",
    "    print(alphabet())\n",
    "\n",
    "    print(justGreet(sayHello)) # sayHello without () is a reference to it\n",
    "    print(justGreet(beGreat)) # beGreat without () is a reference to it\n",
    "    # returning functions\n",
    "    first = parent(1)\n",
    "    second = parent(2)\n",
    "    print(first())\n",
    "    print(second())\n",
    "\n",
    "\n",
    "# no return statement\n",
    "def greet(name):\n",
    "    \"\"\"This function greets to\n",
    "    the person passed in as\n",
    "    parameter\"\"\"\n",
    "    print(\"Hello, \" + name + \". Good day!\")\n",
    "\n",
    "#  no return statement\n",
    "def kitten():\n",
    "    \"\"\"a test\"\"\"\n",
    "#    return 'Meow'\n",
    "\n",
    "#  return statement\n",
    "def kitten2():\n",
    "    \"\"\"a test\"\"\"\n",
    "    return 'Meow'\n",
    "\n",
    "# returns list\n",
    "def grown_up(age):\n",
    "    if age >= 21:\n",
    "        return ['adult', age]\n",
    "    else:\n",
    "        return ['youngster', age]\n",
    "\n",
    "# return dictionary\n",
    "def alphabet():\n",
    "    abc = {}\n",
    "    abc[1] = 'A'\n",
    "    abc[2] = 'B'\n",
    "    abc[3] = 'C'\n",
    "    return abc\n",
    "\n",
    "# return function\n",
    "def sayHello(name):\n",
    "    return f\"Hello {name}\"\n",
    "\n",
    "def beGreat(name):\n",
    "    return f\"Well {name} together we are great!\"\n",
    "\n",
    "def justGreet(greetFunction):\n",
    "    return greetFunction(\"Henry\")\n",
    "\n",
    "# return from function\n",
    "def parent(nummer):\n",
    "    def firstChild():\n",
    "        return 'Hello, I am Burt'\n",
    "    def secondChild():\n",
    "        return 'Hello, I am Gerald'\n",
    "    if nummer == 1:\n",
    "        return firstChild\n",
    "    else:\n",
    "        return secondChild\n",
    "\n",
    "if __name__ == '__main__': main()"
   ]
  },
  {
   "cell_type": "markdown",
   "metadata": {},
   "source": [
    "## Function decorator"
   ]
  },
  {
   "cell_type": "code",
   "execution_count": 14,
   "metadata": {},
   "outputs": [
    {
     "name": "stdout",
     "output_type": "stream",
     "text": [
      "Before function call\n",
      "Wow!\n",
      "After function call\n"
     ]
    }
   ],
   "source": [
    "# Special variable __name__ as main unit of execution (not as module)\n",
    "#\n",
    "# if __name__ == '__main__': main() \n",
    "# special value '__main__' means not imported but a main file\n",
    "#\n",
    "def main():\n",
    "    # pie syntax @simpleDecorator\n",
    "    sayWow()\n",
    "    # without pie syntax @simpleDecorator\n",
    "    #    great = simpleDecorator(sayWow) # assigning decorator to var\n",
    "    #    great() # call\n",
    "\n",
    "def simpleDecorator(function): # decorator function\n",
    "    def wrapper(): # nested wrapper function\n",
    "        print('Before function call')\n",
    "        function() # our extra functionality\n",
    "        print('After function call')\n",
    "    return wrapper\n",
    "\n",
    "@simpleDecorator # pie syntax for function below:\n",
    "def sayWow():\n",
    "        print('Wow!')\n",
    "\n",
    "if __name__ == '__main__': main()"
   ]
  },
  {
   "cell_type": "markdown",
   "metadata": {},
   "source": [
    "## Function decorator with arguments"
   ]
  },
  {
   "cell_type": "code",
   "execution_count": 15,
   "metadata": {},
   "outputs": [
    {
     "name": "stdout",
     "output_type": "stream",
     "text": [
      "Cannot divide by 0\n",
      "Result is 2.000000\n",
      "Result is 3.333333\n"
     ]
    }
   ],
   "source": [
    "# Special variable __name__ as main unit of execution (not as module)\n",
    "#\n",
    "# if __name__ == '__main__': main() \n",
    "# special value '__main__' means not imported but a main file\n",
    "#\n",
    "def main():\n",
    "    # pie syntax @simpleDecorator\n",
    "    divide(10, 0)\n",
    "    print('Result is %f' %(divide(10, 5)))\n",
    "    print('Result is %f' %(divide(10, 3)))\n",
    "    # without pie syntax @simpleDecorator\n",
    "    #    division = simpleDecorator(divide) # assigning decorator to var\n",
    "    #    division() # call\n",
    "\n",
    "def simpleDecorator(function): # decorator function\n",
    "    def wrapper(a, b): # nested wrapper function\n",
    "        if b == 0:\n",
    "            print('Cannot divide by 0')\n",
    "            return\n",
    "        return function(a, b)\n",
    "    return wrapper\n",
    "\n",
    "@simpleDecorator # pie syntax for function below:\n",
    "def divide(a, b):\n",
    "        return a/b\n",
    "\n",
    "if __name__ == '__main__': main()"
   ]
  },
  {
   "cell_type": "markdown",
   "metadata": {},
   "source": [
    "## Chaining decorators"
   ]
  },
  {
   "cell_type": "code",
   "execution_count": 16,
   "metadata": {},
   "outputs": [
    {
     "name": "stdout",
     "output_type": "stream",
     "text": [
      "Before function call\n",
      "Close to function call\n",
      "Wow!\n",
      "First after function call\n",
      "After function call\n"
     ]
    }
   ],
   "source": [
    "# Special variable __name__ as main unit of execution (not as module)\n",
    "#\n",
    "# if __name__ == '__main__': main() \n",
    "# special value '__main__' means not imported but a main file\n",
    "#\n",
    "def main():\n",
    "    zegWow()\n",
    "    # decorator1 used first and then followed by decorator2\n",
    "\n",
    "def decorator1(function): # decorator function\n",
    "    def wrapper(): # nested wrapper function\n",
    "        print('Before function call')\n",
    "        function() # our extra functionality\n",
    "        print('After function call')\n",
    "    return wrapper\n",
    "\n",
    "def decorator2(function):\n",
    "    def wrapper():\n",
    "        print('Close to function call')\n",
    "        function()\n",
    "        print('First after function call')\n",
    "    return wrapper\n",
    "\n",
    "@decorator1\n",
    "@decorator2 # pie syntax for function below:\n",
    "def zegWow():\n",
    "        print('Wow!')\n",
    "\n",
    "if __name__ == '__main__': main()"
   ]
  },
  {
   "cell_type": "code",
   "execution_count": null,
   "metadata": {},
   "outputs": [],
   "source": []
  }
 ],
 "metadata": {
  "kernelspec": {
   "display_name": "Python 3",
   "language": "python",
   "name": "python3"
  },
  "language_info": {
   "codemirror_mode": {
    "name": "ipython",
    "version": 3
   },
   "file_extension": ".py",
   "mimetype": "text/x-python",
   "name": "python",
   "nbconvert_exporter": "python",
   "pygments_lexer": "ipython3",
   "version": "3.8.3"
  }
 },
 "nbformat": 4,
 "nbformat_minor": 4
}
