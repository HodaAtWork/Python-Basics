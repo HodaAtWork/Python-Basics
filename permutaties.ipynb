{
 "cells": [
  {
   "cell_type": "markdown",
   "metadata": {},
   "source": [
    "# Eco en permutaties van Gods naam\n",
    "In Umberto Eco's boek ***De slinger van Foucault*** probeert redacteur Casaubon in te loggen op de computer (Abulafia) van zijn collega Jacopo Belbo. Gezien hun beginnende tocht naar het Plan, lijkt zoeken naar Gods naam als wachtwoord Casaubon een poging waard. Temeer daar de Kaballa rekenkundige verwijzingen hiernaar bevat. Een eerdere gedachte van Casaubon dat het wachtwoord uit alle letters van het alfabet kan bestaan resulteert bij een wachtwoord van 7 letters in ruim 8 miljard combinaties. Eco koppelt hier een (ten tijde van het schrijven van het boek) gigantische rekentijd aan.\n",
    "\n",
    "Vrijwel in het begin van Eco's boek is een Basic programma opgenomen dat de permutaties/anagrammen van Gods naam in het Hebreeuws afdrukt. Dus JHWH (zonder klinkers) dat `4!` anagrammen oplevert.\n",
    "\n",
    "Verderop probeert Casaubon dit nog eens maar dan Gods naam met klinkers JAHWEH dat `6!` anagrammen oplevert.\n",
    "\n",
    "Dat het uiteindelijk een totaal ander wachtwoord blijkt te zijn, doet niets af aan mijn pogingen de anagrammen via een Python programmaatje af te drukken. Dat lijkt simpel en is het uiteindelijk ook, maar Python's kracht deed mij aanvankelijk itereren over de letters in de naam i.p.v. over de indexen van de letters van de naam. Immers, een dubbel of vaker voorkomende letter kan de iteratie verstoren hetgeen leidt tot minder anagrammen.\n",
    "\n",
    "Het Python programma is, net als de Basic variant in Eco's boek, hardcoded voor lengte 4 (en later voor lengte 6). Er is een Python functie of module beschikbaar die ik, net als een recursieve oplossing, daarna toon."
   ]
  },
  {
   "cell_type": "markdown",
   "metadata": {},
   "source": [
    "## Hardcoded\n",
    "Een oplossing als de Basic variant voor woorden met een vast aantal letters"
   ]
  },
  {
   "cell_type": "code",
   "execution_count": 1,
   "metadata": {},
   "outputs": [
    {
     "name": "stdout",
     "output_type": "stream",
     "text": [
      "12\n",
      "['JHWH', 'JWHH', 'JWHH', 'JHWH', 'HJWH', 'HWJH', 'WJHH', 'WJHH', 'WHJH', 'WHJH', 'HJWH', 'HWJH']\n"
     ]
    }
   ],
   "source": [
    "# Onderstaande kijkt naar inhoud en geeft NIET alle permutaties. Immers letter X kan eerder in het woord\n",
    "# voorkomen en daardoor de iteratie verstoren\n",
    "hebrew_name = 'JHWH'\n",
    "name = [letter for letter in hebrew_name]\n",
    "names = []\n",
    "for i1 in name:\n",
    "    for i2 in name:\n",
    "        if i2 != i1:\n",
    "            for i3 in name:\n",
    "                if i3 != i1 and i3 != i2:\n",
    "                    i4 = name.copy()\n",
    "                    i4.remove(i1)\n",
    "                    i4.remove(i2)\n",
    "                    i4.remove(i3)\n",
    "                    names.append((i1 + i2 + i3 + i4[0])) \n",
    "print(len(names))\n",
    "print(names)"
   ]
  },
  {
   "cell_type": "code",
   "execution_count": 2,
   "metadata": {},
   "outputs": [
    {
     "name": "stdout",
     "output_type": "stream",
     "text": [
      "24\n",
      "['JHWH', 'JHHW', 'JWHH', 'JWHH', 'JHHW', 'JHWH', 'HJWH', 'HJHW', 'HWJH', 'HWHJ', 'HHJW', 'HHWJ', 'WJHH', 'WJHH', 'WHJH', 'WHHJ', 'WHJH', 'WHHJ', 'HJHW', 'HJWH', 'HHJW', 'HHWJ', 'HWJH', 'HWHJ']\n"
     ]
    }
   ],
   "source": [
    "# Onderstaande kijkt naar index en berekent n! OK ook als letters dubbel voorkomen.\n",
    "hebrew_name = 'JHWH'\n",
    "name = [letter for letter in hebrew_name]\n",
    "size = len(name)\n",
    "names = []\n",
    "for i1 in range(size):\n",
    "    for i2 in range(size):\n",
    "        if i2 != i1:\n",
    "            for i3 in range(size):\n",
    "                if i3 != i2 and i3 != i1:\n",
    "                    i4 = 6 - (i1 + i2 + i3)\n",
    "                    names.append((name[i1] + name[i2] + name[i3] + name[i4]))\n",
    "#                    \n",
    "print(len(names))\n",
    "print(names)"
   ]
  },
  {
   "cell_type": "markdown",
   "metadata": {},
   "source": [
    "###### Hoe programmeer je alle anagrammen van een naam?\n",
    "Elke letter moet worden vergeleken met elke andere:\n",
    "\n",
    "- de tweede letter vergelijken met de 1e\n",
    "- de derde letter vergelijken met de 2e en de 1e\n",
    "- de voorlaatste letter vergelijken met alle voorgaande letters\n",
    "\n",
    "Hard gecodeerd als hierboven en -onder met namen van respectievelijk 4 (4! = 24) en 6 (6! = 720) lang.\n",
    "\n",
    "Er is een Python functie/module die dit kan (itertools.permutations()). Waar komt het algoritme op neer?\n",
    "\n",
    "- itereer over elke letterpositie (dus pak de Python index: 1e is 0, 2e is 1, enzovoorts)\n",
    "- komt de index niet overeen met de index van enige voorgaande letterpositie, dan itereren over volgende letterpositie\n",
    "- de index van de laatste letter van het woord wordt a.v. bepaald:\n",
    "    - indexen van alle voorgaande letterposities optellen en aftrekken van de som van alle indexen (in Python start je met 0)\n",
    "    - voor 4 letterwoord dus 6 - (index1 + index2 + index3); 6 want dat is de som van alle indexen 0 + 1 + 2 + 3\n",
    "        - 4! = 24 (24 / 6 = 4)\n",
    "    - voor 5 letterwoord dus 10 - (index1 + index2 + index3 + index4); 10 is de som van 0 + 1 + 2 + 3 + 4\n",
    "        - 5! = 120 (120 / 10 = 12)\n",
    "    - voor 6 letterwoord dus 15 - (index1 + index2 + index3 + index4 + index5); 15 is som van 0 + 1 + 2 + 3 + 4 + 5\n",
    "        - 6! = 720 (720 / 15 = 48)\n",
    "    - 7 letterwoord dus 21 - (index1 + index2 + index3 + index4 + index5 + index6); 21 is 0 + 1 + 2 + 3 + 4 + 5 + 6\n",
    "        - 7! = 5040 (5040 / 21 = 240)"
   ]
  },
  {
   "cell_type": "code",
   "execution_count": 3,
   "metadata": {},
   "outputs": [
    {
     "name": "stdout",
     "output_type": "stream",
     "text": [
      "240\n",
      "['JAHWEH', 'JAHEWH', 'JAWHEH', 'JAWEHH', 'JAWEHH', 'JAWHEH', 'JAEHWH', 'JAEWHH', 'JAEWHH', 'JAEHWH', 'JAHWEH', 'JAHEWH', 'JHAWEH', 'JHAEWH', 'JHWAEH', 'JHWEAH', 'JHEAWH', 'JHEWAH', 'JWAHEH', 'JWAEHH', 'JWAEHH', 'JWAHEH', 'JWHAEH', 'JWHEAH', 'JWEAHH', 'JWEAHH', 'JWEHAH', 'JWEHAH', 'JWHAEH', 'JWHEAH', 'JEAHWH', 'JEAWHH', 'JEAWHH', 'JEAHWH', 'JEHAWH', 'JEHWAH', 'JEWAHH', 'JEWAHH', 'JEWHAH', 'JEWHAH', 'JEHAWH', 'JEHWAH', 'JHAWEH', 'JHAEWH', 'JHWAEH', 'JHWEAH', 'JHEAWH', 'JHEWAH', 'AJHWEH', 'AJHEWH', 'AJWHEH', 'AJWEHH', 'AJWEHH', 'AJWHEH', 'AJEHWH', 'AJEWHH', 'AJEWHH', 'AJEHWH', 'AJHWEH', 'AJHEWH', 'AHJWEH', 'AHJEWH', 'AHWJEH', 'AHWEJH', 'AHEJWH', 'AHEWJH', 'AWJHEH', 'AWJEHH', 'AWJEHH', 'AWJHEH', 'AWHJEH', 'AWHEJH', 'AWEJHH', 'AWEJHH', 'AWEHJH', 'AWEHJH', 'AWHJEH', 'AWHEJH', 'AEJHWH', 'AEJWHH', 'AEJWHH', 'AEJHWH', 'AEHJWH', 'AEHWJH', 'AEWJHH', 'AEWJHH', 'AEWHJH', 'AEWHJH', 'AEHJWH', 'AEHWJH', 'AHJWEH', 'AHJEWH', 'AHWJEH', 'AHWEJH', 'AHEJWH', 'AHEWJH', 'HJAWEH', 'HJAEWH', 'HJWAEH', 'HJWEAH', 'HJEAWH', 'HJEWAH', 'HAJWEH', 'HAJEWH', 'HAWJEH', 'HAWEJH', 'HAEJWH', 'HAEWJH', 'HWJAEH', 'HWJEAH', 'HWAJEH', 'HWAEJH', 'HWEJAH', 'HWEAJH', 'HEJAWH', 'HEJWAH', 'HEAJWH', 'HEAWJH', 'HEWJAH', 'HEWAJH', 'WJAHEH', 'WJAEHH', 'WJAEHH', 'WJAHEH', 'WJHAEH', 'WJHEAH', 'WJEAHH', 'WJEAHH', 'WJEHAH', 'WJEHAH', 'WJHAEH', 'WJHEAH', 'WAJHEH', 'WAJEHH', 'WAJEHH', 'WAJHEH', 'WAHJEH', 'WAHEJH', 'WAEJHH', 'WAEJHH', 'WAEHJH', 'WAEHJH', 'WAHJEH', 'WAHEJH', 'WHJAEH', 'WHJEAH', 'WHAJEH', 'WHAEJH', 'WHEJAH', 'WHEAJH', 'WEJAHH', 'WEJAHH', 'WEJHAH', 'WEJHAH', 'WEAJHH', 'WEAJHH', 'WEAHJH', 'WEAHJH', 'WEHJAH', 'WEHAJH', 'WEHJAH', 'WEHAJH', 'WHJAEH', 'WHJEAH', 'WHAJEH', 'WHAEJH', 'WHEJAH', 'WHEAJH', 'EJAHWH', 'EJAWHH', 'EJAWHH', 'EJAHWH', 'EJHAWH', 'EJHWAH', 'EJWAHH', 'EJWAHH', 'EJWHAH', 'EJWHAH', 'EJHAWH', 'EJHWAH', 'EAJHWH', 'EAJWHH', 'EAJWHH', 'EAJHWH', 'EAHJWH', 'EAHWJH', 'EAWJHH', 'EAWJHH', 'EAWHJH', 'EAWHJH', 'EAHJWH', 'EAHWJH', 'EHJAWH', 'EHJWAH', 'EHAJWH', 'EHAWJH', 'EHWJAH', 'EHWAJH', 'EWJAHH', 'EWJAHH', 'EWJHAH', 'EWJHAH', 'EWAJHH', 'EWAJHH', 'EWAHJH', 'EWAHJH', 'EWHJAH', 'EWHAJH', 'EWHJAH', 'EWHAJH', 'EHJAWH', 'EHJWAH', 'EHAJWH', 'EHAWJH', 'EHWJAH', 'EHWAJH', 'HJAWEH', 'HJAEWH', 'HJWAEH', 'HJWEAH', 'HJEAWH', 'HJEWAH', 'HAJWEH', 'HAJEWH', 'HAWJEH', 'HAWEJH', 'HAEJWH', 'HAEWJH', 'HWJAEH', 'HWJEAH', 'HWAJEH', 'HWAEJH', 'HWEJAH', 'HWEAJH', 'HEJAWH', 'HEJWAH', 'HEAJWH', 'HEAWJH', 'HEWJAH', 'HEWAJH']\n"
     ]
    }
   ],
   "source": [
    "# Onderstaande code bepaalt NIET alle permutaties omdat gekeken wordt naar waardes (letters) die mogelijk gelijk zijn.\n",
    "name_string = 'JAHWEH' #6.5.4.3.2.1 = 720\n",
    "name = [letter for letter in name_string]\n",
    "gods_names = []\n",
    "for i1 in name:\n",
    "    for i2 in name:\n",
    "        if i2 != i1:\n",
    "            for i3 in name:\n",
    "                if i3 != i1 and i3!= i2:\n",
    "                    for i4 in name:\n",
    "                        if i4 != i1 and i4 != i2 and i4 != i3:\n",
    "                            for i5 in name:\n",
    "                                if i5 != i1 and i5 != i2 and i5 != i3 and i5 != i4:\n",
    "                                    i6 = name.copy()\n",
    "                                    i6.remove(i1)\n",
    "                                    i6.remove(i2)\n",
    "                                    i6.remove(i3)\n",
    "                                    i6.remove(i4)\n",
    "                                    i6.remove(i5)\n",
    "                                    gods_names.append((i1 + i2 + i3 + i4 + i5 + i6[0]))\n",
    "print(len(gods_names))\n",
    "print(gods_names)\n"
   ]
  },
  {
   "cell_type": "markdown",
   "metadata": {},
   "source": [
    "### Hardcoded via indexen\n",
    "Deze hardcoded oplossing levert voor een `n` lang woord alle `n!` permutaties."
   ]
  },
  {
   "cell_type": "code",
   "execution_count": 4,
   "metadata": {},
   "outputs": [
    {
     "name": "stdout",
     "output_type": "stream",
     "text": [
      "720\n",
      "['JAHWEH', 'JAHWHE', 'JAHEWH', 'JAHEHW', 'JAHHWE', 'JAHHEW', 'JAWHEH', 'JAWHHE', 'JAWEHH', 'JAWEHH', 'JAWHHE', 'JAWHEH', 'JAEHWH', 'JAEHHW', 'JAEWHH', 'JAEWHH', 'JAEHHW', 'JAEHWH', 'JAHHWE', 'JAHHEW', 'JAHWHE', 'JAHWEH', 'JAHEHW', 'JAHEWH', 'JHAWEH', 'JHAWHE', 'JHAEWH', 'JHAEHW', 'JHAHWE', 'JHAHEW', 'JHWAEH', 'JHWAHE', 'JHWEAH', 'JHWEHA', 'JHWHAE', 'JHWHEA', 'JHEAWH', 'JHEAHW', 'JHEWAH', 'JHEWHA', 'JHEHAW', 'JHEHWA', 'JHHAWE', 'JHHAEW', 'JHHWAE', 'JHHWEA', 'JHHEAW', 'JHHEWA', 'JWAHEH', 'JWAHHE', 'JWAEHH', 'JWAEHH', 'JWAHHE', 'JWAHEH', 'JWHAEH', 'JWHAHE', 'JWHEAH', 'JWHEHA', 'JWHHAE', 'JWHHEA', 'JWEAHH', 'JWEAHH', 'JWEHAH', 'JWEHHA', 'JWEHAH', 'JWEHHA', 'JWHAHE', 'JWHAEH', 'JWHHAE', 'JWHHEA', 'JWHEAH', 'JWHEHA', 'JEAHWH', 'JEAHHW', 'JEAWHH', 'JEAWHH', 'JEAHHW', 'JEAHWH', 'JEHAWH', 'JEHAHW', 'JEHWAH', 'JEHWHA', 'JEHHAW', 'JEHHWA', 'JEWAHH', 'JEWAHH', 'JEWHAH', 'JEWHHA', 'JEWHAH', 'JEWHHA', 'JEHAHW', 'JEHAWH', 'JEHHAW', 'JEHHWA', 'JEHWAH', 'JEHWHA', 'JHAHWE', 'JHAHEW', 'JHAWHE', 'JHAWEH', 'JHAEHW', 'JHAEWH', 'JHHAWE', 'JHHAEW', 'JHHWAE', 'JHHWEA', 'JHHEAW', 'JHHEWA', 'JHWAHE', 'JHWAEH', 'JHWHAE', 'JHWHEA', 'JHWEAH', 'JHWEHA', 'JHEAHW', 'JHEAWH', 'JHEHAW', 'JHEHWA', 'JHEWAH', 'JHEWHA', 'AJHWEH', 'AJHWHE', 'AJHEWH', 'AJHEHW', 'AJHHWE', 'AJHHEW', 'AJWHEH', 'AJWHHE', 'AJWEHH', 'AJWEHH', 'AJWHHE', 'AJWHEH', 'AJEHWH', 'AJEHHW', 'AJEWHH', 'AJEWHH', 'AJEHHW', 'AJEHWH', 'AJHHWE', 'AJHHEW', 'AJHWHE', 'AJHWEH', 'AJHEHW', 'AJHEWH', 'AHJWEH', 'AHJWHE', 'AHJEWH', 'AHJEHW', 'AHJHWE', 'AHJHEW', 'AHWJEH', 'AHWJHE', 'AHWEJH', 'AHWEHJ', 'AHWHJE', 'AHWHEJ', 'AHEJWH', 'AHEJHW', 'AHEWJH', 'AHEWHJ', 'AHEHJW', 'AHEHWJ', 'AHHJWE', 'AHHJEW', 'AHHWJE', 'AHHWEJ', 'AHHEJW', 'AHHEWJ', 'AWJHEH', 'AWJHHE', 'AWJEHH', 'AWJEHH', 'AWJHHE', 'AWJHEH', 'AWHJEH', 'AWHJHE', 'AWHEJH', 'AWHEHJ', 'AWHHJE', 'AWHHEJ', 'AWEJHH', 'AWEJHH', 'AWEHJH', 'AWEHHJ', 'AWEHJH', 'AWEHHJ', 'AWHJHE', 'AWHJEH', 'AWHHJE', 'AWHHEJ', 'AWHEJH', 'AWHEHJ', 'AEJHWH', 'AEJHHW', 'AEJWHH', 'AEJWHH', 'AEJHHW', 'AEJHWH', 'AEHJWH', 'AEHJHW', 'AEHWJH', 'AEHWHJ', 'AEHHJW', 'AEHHWJ', 'AEWJHH', 'AEWJHH', 'AEWHJH', 'AEWHHJ', 'AEWHJH', 'AEWHHJ', 'AEHJHW', 'AEHJWH', 'AEHHJW', 'AEHHWJ', 'AEHWJH', 'AEHWHJ', 'AHJHWE', 'AHJHEW', 'AHJWHE', 'AHJWEH', 'AHJEHW', 'AHJEWH', 'AHHJWE', 'AHHJEW', 'AHHWJE', 'AHHWEJ', 'AHHEJW', 'AHHEWJ', 'AHWJHE', 'AHWJEH', 'AHWHJE', 'AHWHEJ', 'AHWEJH', 'AHWEHJ', 'AHEJHW', 'AHEJWH', 'AHEHJW', 'AHEHWJ', 'AHEWJH', 'AHEWHJ', 'HJAWEH', 'HJAWHE', 'HJAEWH', 'HJAEHW', 'HJAHWE', 'HJAHEW', 'HJWAEH', 'HJWAHE', 'HJWEAH', 'HJWEHA', 'HJWHAE', 'HJWHEA', 'HJEAWH', 'HJEAHW', 'HJEWAH', 'HJEWHA', 'HJEHAW', 'HJEHWA', 'HJHAWE', 'HJHAEW', 'HJHWAE', 'HJHWEA', 'HJHEAW', 'HJHEWA', 'HAJWEH', 'HAJWHE', 'HAJEWH', 'HAJEHW', 'HAJHWE', 'HAJHEW', 'HAWJEH', 'HAWJHE', 'HAWEJH', 'HAWEHJ', 'HAWHJE', 'HAWHEJ', 'HAEJWH', 'HAEJHW', 'HAEWJH', 'HAEWHJ', 'HAEHJW', 'HAEHWJ', 'HAHJWE', 'HAHJEW', 'HAHWJE', 'HAHWEJ', 'HAHEJW', 'HAHEWJ', 'HWJAEH', 'HWJAHE', 'HWJEAH', 'HWJEHA', 'HWJHAE', 'HWJHEA', 'HWAJEH', 'HWAJHE', 'HWAEJH', 'HWAEHJ', 'HWAHJE', 'HWAHEJ', 'HWEJAH', 'HWEJHA', 'HWEAJH', 'HWEAHJ', 'HWEHJA', 'HWEHAJ', 'HWHJAE', 'HWHJEA', 'HWHAJE', 'HWHAEJ', 'HWHEJA', 'HWHEAJ', 'HEJAWH', 'HEJAHW', 'HEJWAH', 'HEJWHA', 'HEJHAW', 'HEJHWA', 'HEAJWH', 'HEAJHW', 'HEAWJH', 'HEAWHJ', 'HEAHJW', 'HEAHWJ', 'HEWJAH', 'HEWJHA', 'HEWAJH', 'HEWAHJ', 'HEWHJA', 'HEWHAJ', 'HEHJAW', 'HEHJWA', 'HEHAJW', 'HEHAWJ', 'HEHWJA', 'HEHWAJ', 'HHJAWE', 'HHJAEW', 'HHJWAE', 'HHJWEA', 'HHJEAW', 'HHJEWA', 'HHAJWE', 'HHAJEW', 'HHAWJE', 'HHAWEJ', 'HHAEJW', 'HHAEWJ', 'HHWJAE', 'HHWJEA', 'HHWAJE', 'HHWAEJ', 'HHWEJA', 'HHWEAJ', 'HHEJAW', 'HHEJWA', 'HHEAJW', 'HHEAWJ', 'HHEWJA', 'HHEWAJ', 'WJAHEH', 'WJAHHE', 'WJAEHH', 'WJAEHH', 'WJAHHE', 'WJAHEH', 'WJHAEH', 'WJHAHE', 'WJHEAH', 'WJHEHA', 'WJHHAE', 'WJHHEA', 'WJEAHH', 'WJEAHH', 'WJEHAH', 'WJEHHA', 'WJEHAH', 'WJEHHA', 'WJHAHE', 'WJHAEH', 'WJHHAE', 'WJHHEA', 'WJHEAH', 'WJHEHA', 'WAJHEH', 'WAJHHE', 'WAJEHH', 'WAJEHH', 'WAJHHE', 'WAJHEH', 'WAHJEH', 'WAHJHE', 'WAHEJH', 'WAHEHJ', 'WAHHJE', 'WAHHEJ', 'WAEJHH', 'WAEJHH', 'WAEHJH', 'WAEHHJ', 'WAEHJH', 'WAEHHJ', 'WAHJHE', 'WAHJEH', 'WAHHJE', 'WAHHEJ', 'WAHEJH', 'WAHEHJ', 'WHJAEH', 'WHJAHE', 'WHJEAH', 'WHJEHA', 'WHJHAE', 'WHJHEA', 'WHAJEH', 'WHAJHE', 'WHAEJH', 'WHAEHJ', 'WHAHJE', 'WHAHEJ', 'WHEJAH', 'WHEJHA', 'WHEAJH', 'WHEAHJ', 'WHEHJA', 'WHEHAJ', 'WHHJAE', 'WHHJEA', 'WHHAJE', 'WHHAEJ', 'WHHEJA', 'WHHEAJ', 'WEJAHH', 'WEJAHH', 'WEJHAH', 'WEJHHA', 'WEJHAH', 'WEJHHA', 'WEAJHH', 'WEAJHH', 'WEAHJH', 'WEAHHJ', 'WEAHJH', 'WEAHHJ', 'WEHJAH', 'WEHJHA', 'WEHAJH', 'WEHAHJ', 'WEHHJA', 'WEHHAJ', 'WEHJAH', 'WEHJHA', 'WEHAJH', 'WEHAHJ', 'WEHHJA', 'WEHHAJ', 'WHJAHE', 'WHJAEH', 'WHJHAE', 'WHJHEA', 'WHJEAH', 'WHJEHA', 'WHAJHE', 'WHAJEH', 'WHAHJE', 'WHAHEJ', 'WHAEJH', 'WHAEHJ', 'WHHJAE', 'WHHJEA', 'WHHAJE', 'WHHAEJ', 'WHHEJA', 'WHHEAJ', 'WHEJAH', 'WHEJHA', 'WHEAJH', 'WHEAHJ', 'WHEHJA', 'WHEHAJ', 'EJAHWH', 'EJAHHW', 'EJAWHH', 'EJAWHH', 'EJAHHW', 'EJAHWH', 'EJHAWH', 'EJHAHW', 'EJHWAH', 'EJHWHA', 'EJHHAW', 'EJHHWA', 'EJWAHH', 'EJWAHH', 'EJWHAH', 'EJWHHA', 'EJWHAH', 'EJWHHA', 'EJHAHW', 'EJHAWH', 'EJHHAW', 'EJHHWA', 'EJHWAH', 'EJHWHA', 'EAJHWH', 'EAJHHW', 'EAJWHH', 'EAJWHH', 'EAJHHW', 'EAJHWH', 'EAHJWH', 'EAHJHW', 'EAHWJH', 'EAHWHJ', 'EAHHJW', 'EAHHWJ', 'EAWJHH', 'EAWJHH', 'EAWHJH', 'EAWHHJ', 'EAWHJH', 'EAWHHJ', 'EAHJHW', 'EAHJWH', 'EAHHJW', 'EAHHWJ', 'EAHWJH', 'EAHWHJ', 'EHJAWH', 'EHJAHW', 'EHJWAH', 'EHJWHA', 'EHJHAW', 'EHJHWA', 'EHAJWH', 'EHAJHW', 'EHAWJH', 'EHAWHJ', 'EHAHJW', 'EHAHWJ', 'EHWJAH', 'EHWJHA', 'EHWAJH', 'EHWAHJ', 'EHWHJA', 'EHWHAJ', 'EHHJAW', 'EHHJWA', 'EHHAJW', 'EHHAWJ', 'EHHWJA', 'EHHWAJ', 'EWJAHH', 'EWJAHH', 'EWJHAH', 'EWJHHA', 'EWJHAH', 'EWJHHA', 'EWAJHH', 'EWAJHH', 'EWAHJH', 'EWAHHJ', 'EWAHJH', 'EWAHHJ', 'EWHJAH', 'EWHJHA', 'EWHAJH', 'EWHAHJ', 'EWHHJA', 'EWHHAJ', 'EWHJAH', 'EWHJHA', 'EWHAJH', 'EWHAHJ', 'EWHHJA', 'EWHHAJ', 'EHJAHW', 'EHJAWH', 'EHJHAW', 'EHJHWA', 'EHJWAH', 'EHJWHA', 'EHAJHW', 'EHAJWH', 'EHAHJW', 'EHAHWJ', 'EHAWJH', 'EHAWHJ', 'EHHJAW', 'EHHJWA', 'EHHAJW', 'EHHAWJ', 'EHHWJA', 'EHHWAJ', 'EHWJAH', 'EHWJHA', 'EHWAJH', 'EHWAHJ', 'EHWHJA', 'EHWHAJ', 'HJAHWE', 'HJAHEW', 'HJAWHE', 'HJAWEH', 'HJAEHW', 'HJAEWH', 'HJHAWE', 'HJHAEW', 'HJHWAE', 'HJHWEA', 'HJHEAW', 'HJHEWA', 'HJWAHE', 'HJWAEH', 'HJWHAE', 'HJWHEA', 'HJWEAH', 'HJWEHA', 'HJEAHW', 'HJEAWH', 'HJEHAW', 'HJEHWA', 'HJEWAH', 'HJEWHA', 'HAJHWE', 'HAJHEW', 'HAJWHE', 'HAJWEH', 'HAJEHW', 'HAJEWH', 'HAHJWE', 'HAHJEW', 'HAHWJE', 'HAHWEJ', 'HAHEJW', 'HAHEWJ', 'HAWJHE', 'HAWJEH', 'HAWHJE', 'HAWHEJ', 'HAWEJH', 'HAWEHJ', 'HAEJHW', 'HAEJWH', 'HAEHJW', 'HAEHWJ', 'HAEWJH', 'HAEWHJ', 'HHJAWE', 'HHJAEW', 'HHJWAE', 'HHJWEA', 'HHJEAW', 'HHJEWA', 'HHAJWE', 'HHAJEW', 'HHAWJE', 'HHAWEJ', 'HHAEJW', 'HHAEWJ', 'HHWJAE', 'HHWJEA', 'HHWAJE', 'HHWAEJ', 'HHWEJA', 'HHWEAJ', 'HHEJAW', 'HHEJWA', 'HHEAJW', 'HHEAWJ', 'HHEWJA', 'HHEWAJ', 'HWJAHE', 'HWJAEH', 'HWJHAE', 'HWJHEA', 'HWJEAH', 'HWJEHA', 'HWAJHE', 'HWAJEH', 'HWAHJE', 'HWAHEJ', 'HWAEJH', 'HWAEHJ', 'HWHJAE', 'HWHJEA', 'HWHAJE', 'HWHAEJ', 'HWHEJA', 'HWHEAJ', 'HWEJAH', 'HWEJHA', 'HWEAJH', 'HWEAHJ', 'HWEHJA', 'HWEHAJ', 'HEJAHW', 'HEJAWH', 'HEJHAW', 'HEJHWA', 'HEJWAH', 'HEJWHA', 'HEAJHW', 'HEAJWH', 'HEAHJW', 'HEAHWJ', 'HEAWJH', 'HEAWHJ', 'HEHJAW', 'HEHJWA', 'HEHAJW', 'HEHAWJ', 'HEHWJA', 'HEHWAJ', 'HEWJAH', 'HEWJHA', 'HEWAJH', 'HEWAHJ', 'HEWHJA', 'HEWHAJ']\n"
     ]
    }
   ],
   "source": [
    "# Nu worden alle permutaties correct bepaald door te kijken naar indexen. Dus ook OK bij letter voorkomens >=2\n",
    "name_string = 'JAHWEH' #6.5.4.3.2.1 = 720\n",
    "name = [letter for letter in name_string]\n",
    "size = len(name)\n",
    "gods_names = []\n",
    "for i1 in range(size):\n",
    "    for i2 in range(size):\n",
    "        if i2 != i1:\n",
    "            for i3 in range(size):\n",
    "                if i3 != i1 and i3 != i2:\n",
    "                    for i4 in range(size):\n",
    "                        if i4 != i1 and i4 != i2 and i4 != i3:\n",
    "                            for i5 in range(size):\n",
    "                                if i5 != i1 and i5 != i2 and i5 != i3 and i5 != i4:\n",
    "                                    i6 = 15 - (i1 + i2 + i3 + i4 + i5)\n",
    "                                    gods_names.append((name[i1] + name[i2] + name[i3] + name[i4] + name[i5] + name[i6]))\n",
    "print(len(gods_names))\n",
    "print(gods_names)"
   ]
  },
  {
   "cell_type": "markdown",
   "metadata": {},
   "source": [
    "## Met Python module itertools\n",
    "Met `itertools` is het vinden van alle permutaties kinderspel."
   ]
  },
  {
   "cell_type": "code",
   "execution_count": 5,
   "metadata": {},
   "outputs": [],
   "source": [
    "def inputString(questionString):\n",
    "    length = 0\n",
    "    while length < 2:\n",
    "        enteredWord = input(questionString)\n",
    "        length = len(enteredWord)\n",
    "    return enteredWord"
   ]
  },
  {
   "cell_type": "code",
   "execution_count": 6,
   "metadata": {},
   "outputs": [
    {
     "name": "stdout",
     "output_type": "stream",
     "text": [
      "Enter a word JAHWEH\n",
      "720\n",
      "['JAHWEH', 'JAHWHE', 'JAHEWH', 'JAHEHW', 'JAHHWE', 'JAHHEW', 'JAWHEH', 'JAWHHE', 'JAWEHH', 'JAWEHH', 'JAWHHE', 'JAWHEH', 'JAEHWH', 'JAEHHW', 'JAEWHH', 'JAEWHH', 'JAEHHW', 'JAEHWH', 'JAHHWE', 'JAHHEW', 'JAHWHE', 'JAHWEH', 'JAHEHW', 'JAHEWH', 'JHAWEH', 'JHAWHE', 'JHAEWH', 'JHAEHW', 'JHAHWE', 'JHAHEW', 'JHWAEH', 'JHWAHE', 'JHWEAH', 'JHWEHA', 'JHWHAE', 'JHWHEA', 'JHEAWH', 'JHEAHW', 'JHEWAH', 'JHEWHA', 'JHEHAW', 'JHEHWA', 'JHHAWE', 'JHHAEW', 'JHHWAE', 'JHHWEA', 'JHHEAW', 'JHHEWA', 'JWAHEH', 'JWAHHE', 'JWAEHH', 'JWAEHH', 'JWAHHE', 'JWAHEH', 'JWHAEH', 'JWHAHE', 'JWHEAH', 'JWHEHA', 'JWHHAE', 'JWHHEA', 'JWEAHH', 'JWEAHH', 'JWEHAH', 'JWEHHA', 'JWEHAH', 'JWEHHA', 'JWHAHE', 'JWHAEH', 'JWHHAE', 'JWHHEA', 'JWHEAH', 'JWHEHA', 'JEAHWH', 'JEAHHW', 'JEAWHH', 'JEAWHH', 'JEAHHW', 'JEAHWH', 'JEHAWH', 'JEHAHW', 'JEHWAH', 'JEHWHA', 'JEHHAW', 'JEHHWA', 'JEWAHH', 'JEWAHH', 'JEWHAH', 'JEWHHA', 'JEWHAH', 'JEWHHA', 'JEHAHW', 'JEHAWH', 'JEHHAW', 'JEHHWA', 'JEHWAH', 'JEHWHA', 'JHAHWE', 'JHAHEW', 'JHAWHE', 'JHAWEH', 'JHAEHW', 'JHAEWH', 'JHHAWE', 'JHHAEW', 'JHHWAE', 'JHHWEA', 'JHHEAW', 'JHHEWA', 'JHWAHE', 'JHWAEH', 'JHWHAE', 'JHWHEA', 'JHWEAH', 'JHWEHA', 'JHEAHW', 'JHEAWH', 'JHEHAW', 'JHEHWA', 'JHEWAH', 'JHEWHA', 'AJHWEH', 'AJHWHE', 'AJHEWH', 'AJHEHW', 'AJHHWE', 'AJHHEW', 'AJWHEH', 'AJWHHE', 'AJWEHH', 'AJWEHH', 'AJWHHE', 'AJWHEH', 'AJEHWH', 'AJEHHW', 'AJEWHH', 'AJEWHH', 'AJEHHW', 'AJEHWH', 'AJHHWE', 'AJHHEW', 'AJHWHE', 'AJHWEH', 'AJHEHW', 'AJHEWH', 'AHJWEH', 'AHJWHE', 'AHJEWH', 'AHJEHW', 'AHJHWE', 'AHJHEW', 'AHWJEH', 'AHWJHE', 'AHWEJH', 'AHWEHJ', 'AHWHJE', 'AHWHEJ', 'AHEJWH', 'AHEJHW', 'AHEWJH', 'AHEWHJ', 'AHEHJW', 'AHEHWJ', 'AHHJWE', 'AHHJEW', 'AHHWJE', 'AHHWEJ', 'AHHEJW', 'AHHEWJ', 'AWJHEH', 'AWJHHE', 'AWJEHH', 'AWJEHH', 'AWJHHE', 'AWJHEH', 'AWHJEH', 'AWHJHE', 'AWHEJH', 'AWHEHJ', 'AWHHJE', 'AWHHEJ', 'AWEJHH', 'AWEJHH', 'AWEHJH', 'AWEHHJ', 'AWEHJH', 'AWEHHJ', 'AWHJHE', 'AWHJEH', 'AWHHJE', 'AWHHEJ', 'AWHEJH', 'AWHEHJ', 'AEJHWH', 'AEJHHW', 'AEJWHH', 'AEJWHH', 'AEJHHW', 'AEJHWH', 'AEHJWH', 'AEHJHW', 'AEHWJH', 'AEHWHJ', 'AEHHJW', 'AEHHWJ', 'AEWJHH', 'AEWJHH', 'AEWHJH', 'AEWHHJ', 'AEWHJH', 'AEWHHJ', 'AEHJHW', 'AEHJWH', 'AEHHJW', 'AEHHWJ', 'AEHWJH', 'AEHWHJ', 'AHJHWE', 'AHJHEW', 'AHJWHE', 'AHJWEH', 'AHJEHW', 'AHJEWH', 'AHHJWE', 'AHHJEW', 'AHHWJE', 'AHHWEJ', 'AHHEJW', 'AHHEWJ', 'AHWJHE', 'AHWJEH', 'AHWHJE', 'AHWHEJ', 'AHWEJH', 'AHWEHJ', 'AHEJHW', 'AHEJWH', 'AHEHJW', 'AHEHWJ', 'AHEWJH', 'AHEWHJ', 'HJAWEH', 'HJAWHE', 'HJAEWH', 'HJAEHW', 'HJAHWE', 'HJAHEW', 'HJWAEH', 'HJWAHE', 'HJWEAH', 'HJWEHA', 'HJWHAE', 'HJWHEA', 'HJEAWH', 'HJEAHW', 'HJEWAH', 'HJEWHA', 'HJEHAW', 'HJEHWA', 'HJHAWE', 'HJHAEW', 'HJHWAE', 'HJHWEA', 'HJHEAW', 'HJHEWA', 'HAJWEH', 'HAJWHE', 'HAJEWH', 'HAJEHW', 'HAJHWE', 'HAJHEW', 'HAWJEH', 'HAWJHE', 'HAWEJH', 'HAWEHJ', 'HAWHJE', 'HAWHEJ', 'HAEJWH', 'HAEJHW', 'HAEWJH', 'HAEWHJ', 'HAEHJW', 'HAEHWJ', 'HAHJWE', 'HAHJEW', 'HAHWJE', 'HAHWEJ', 'HAHEJW', 'HAHEWJ', 'HWJAEH', 'HWJAHE', 'HWJEAH', 'HWJEHA', 'HWJHAE', 'HWJHEA', 'HWAJEH', 'HWAJHE', 'HWAEJH', 'HWAEHJ', 'HWAHJE', 'HWAHEJ', 'HWEJAH', 'HWEJHA', 'HWEAJH', 'HWEAHJ', 'HWEHJA', 'HWEHAJ', 'HWHJAE', 'HWHJEA', 'HWHAJE', 'HWHAEJ', 'HWHEJA', 'HWHEAJ', 'HEJAWH', 'HEJAHW', 'HEJWAH', 'HEJWHA', 'HEJHAW', 'HEJHWA', 'HEAJWH', 'HEAJHW', 'HEAWJH', 'HEAWHJ', 'HEAHJW', 'HEAHWJ', 'HEWJAH', 'HEWJHA', 'HEWAJH', 'HEWAHJ', 'HEWHJA', 'HEWHAJ', 'HEHJAW', 'HEHJWA', 'HEHAJW', 'HEHAWJ', 'HEHWJA', 'HEHWAJ', 'HHJAWE', 'HHJAEW', 'HHJWAE', 'HHJWEA', 'HHJEAW', 'HHJEWA', 'HHAJWE', 'HHAJEW', 'HHAWJE', 'HHAWEJ', 'HHAEJW', 'HHAEWJ', 'HHWJAE', 'HHWJEA', 'HHWAJE', 'HHWAEJ', 'HHWEJA', 'HHWEAJ', 'HHEJAW', 'HHEJWA', 'HHEAJW', 'HHEAWJ', 'HHEWJA', 'HHEWAJ', 'WJAHEH', 'WJAHHE', 'WJAEHH', 'WJAEHH', 'WJAHHE', 'WJAHEH', 'WJHAEH', 'WJHAHE', 'WJHEAH', 'WJHEHA', 'WJHHAE', 'WJHHEA', 'WJEAHH', 'WJEAHH', 'WJEHAH', 'WJEHHA', 'WJEHAH', 'WJEHHA', 'WJHAHE', 'WJHAEH', 'WJHHAE', 'WJHHEA', 'WJHEAH', 'WJHEHA', 'WAJHEH', 'WAJHHE', 'WAJEHH', 'WAJEHH', 'WAJHHE', 'WAJHEH', 'WAHJEH', 'WAHJHE', 'WAHEJH', 'WAHEHJ', 'WAHHJE', 'WAHHEJ', 'WAEJHH', 'WAEJHH', 'WAEHJH', 'WAEHHJ', 'WAEHJH', 'WAEHHJ', 'WAHJHE', 'WAHJEH', 'WAHHJE', 'WAHHEJ', 'WAHEJH', 'WAHEHJ', 'WHJAEH', 'WHJAHE', 'WHJEAH', 'WHJEHA', 'WHJHAE', 'WHJHEA', 'WHAJEH', 'WHAJHE', 'WHAEJH', 'WHAEHJ', 'WHAHJE', 'WHAHEJ', 'WHEJAH', 'WHEJHA', 'WHEAJH', 'WHEAHJ', 'WHEHJA', 'WHEHAJ', 'WHHJAE', 'WHHJEA', 'WHHAJE', 'WHHAEJ', 'WHHEJA', 'WHHEAJ', 'WEJAHH', 'WEJAHH', 'WEJHAH', 'WEJHHA', 'WEJHAH', 'WEJHHA', 'WEAJHH', 'WEAJHH', 'WEAHJH', 'WEAHHJ', 'WEAHJH', 'WEAHHJ', 'WEHJAH', 'WEHJHA', 'WEHAJH', 'WEHAHJ', 'WEHHJA', 'WEHHAJ', 'WEHJAH', 'WEHJHA', 'WEHAJH', 'WEHAHJ', 'WEHHJA', 'WEHHAJ', 'WHJAHE', 'WHJAEH', 'WHJHAE', 'WHJHEA', 'WHJEAH', 'WHJEHA', 'WHAJHE', 'WHAJEH', 'WHAHJE', 'WHAHEJ', 'WHAEJH', 'WHAEHJ', 'WHHJAE', 'WHHJEA', 'WHHAJE', 'WHHAEJ', 'WHHEJA', 'WHHEAJ', 'WHEJAH', 'WHEJHA', 'WHEAJH', 'WHEAHJ', 'WHEHJA', 'WHEHAJ', 'EJAHWH', 'EJAHHW', 'EJAWHH', 'EJAWHH', 'EJAHHW', 'EJAHWH', 'EJHAWH', 'EJHAHW', 'EJHWAH', 'EJHWHA', 'EJHHAW', 'EJHHWA', 'EJWAHH', 'EJWAHH', 'EJWHAH', 'EJWHHA', 'EJWHAH', 'EJWHHA', 'EJHAHW', 'EJHAWH', 'EJHHAW', 'EJHHWA', 'EJHWAH', 'EJHWHA', 'EAJHWH', 'EAJHHW', 'EAJWHH', 'EAJWHH', 'EAJHHW', 'EAJHWH', 'EAHJWH', 'EAHJHW', 'EAHWJH', 'EAHWHJ', 'EAHHJW', 'EAHHWJ', 'EAWJHH', 'EAWJHH', 'EAWHJH', 'EAWHHJ', 'EAWHJH', 'EAWHHJ', 'EAHJHW', 'EAHJWH', 'EAHHJW', 'EAHHWJ', 'EAHWJH', 'EAHWHJ', 'EHJAWH', 'EHJAHW', 'EHJWAH', 'EHJWHA', 'EHJHAW', 'EHJHWA', 'EHAJWH', 'EHAJHW', 'EHAWJH', 'EHAWHJ', 'EHAHJW', 'EHAHWJ', 'EHWJAH', 'EHWJHA', 'EHWAJH', 'EHWAHJ', 'EHWHJA', 'EHWHAJ', 'EHHJAW', 'EHHJWA', 'EHHAJW', 'EHHAWJ', 'EHHWJA', 'EHHWAJ', 'EWJAHH', 'EWJAHH', 'EWJHAH', 'EWJHHA', 'EWJHAH', 'EWJHHA', 'EWAJHH', 'EWAJHH', 'EWAHJH', 'EWAHHJ', 'EWAHJH', 'EWAHHJ', 'EWHJAH', 'EWHJHA', 'EWHAJH', 'EWHAHJ', 'EWHHJA', 'EWHHAJ', 'EWHJAH', 'EWHJHA', 'EWHAJH', 'EWHAHJ', 'EWHHJA', 'EWHHAJ', 'EHJAHW', 'EHJAWH', 'EHJHAW', 'EHJHWA', 'EHJWAH', 'EHJWHA', 'EHAJHW', 'EHAJWH', 'EHAHJW', 'EHAHWJ', 'EHAWJH', 'EHAWHJ', 'EHHJAW', 'EHHJWA', 'EHHAJW', 'EHHAWJ', 'EHHWJA', 'EHHWAJ', 'EHWJAH', 'EHWJHA', 'EHWAJH', 'EHWAHJ', 'EHWHJA', 'EHWHAJ', 'HJAHWE', 'HJAHEW', 'HJAWHE', 'HJAWEH', 'HJAEHW', 'HJAEWH', 'HJHAWE', 'HJHAEW', 'HJHWAE', 'HJHWEA', 'HJHEAW', 'HJHEWA', 'HJWAHE', 'HJWAEH', 'HJWHAE', 'HJWHEA', 'HJWEAH', 'HJWEHA', 'HJEAHW', 'HJEAWH', 'HJEHAW', 'HJEHWA', 'HJEWAH', 'HJEWHA', 'HAJHWE', 'HAJHEW', 'HAJWHE', 'HAJWEH', 'HAJEHW', 'HAJEWH', 'HAHJWE', 'HAHJEW', 'HAHWJE', 'HAHWEJ', 'HAHEJW', 'HAHEWJ', 'HAWJHE', 'HAWJEH', 'HAWHJE', 'HAWHEJ', 'HAWEJH', 'HAWEHJ', 'HAEJHW', 'HAEJWH', 'HAEHJW', 'HAEHWJ', 'HAEWJH', 'HAEWHJ', 'HHJAWE', 'HHJAEW', 'HHJWAE', 'HHJWEA', 'HHJEAW', 'HHJEWA', 'HHAJWE', 'HHAJEW', 'HHAWJE', 'HHAWEJ', 'HHAEJW', 'HHAEWJ', 'HHWJAE', 'HHWJEA', 'HHWAJE', 'HHWAEJ', 'HHWEJA', 'HHWEAJ', 'HHEJAW', 'HHEJWA', 'HHEAJW', 'HHEAWJ', 'HHEWJA', 'HHEWAJ', 'HWJAHE', 'HWJAEH', 'HWJHAE', 'HWJHEA', 'HWJEAH', 'HWJEHA', 'HWAJHE', 'HWAJEH', 'HWAHJE', 'HWAHEJ', 'HWAEJH', 'HWAEHJ', 'HWHJAE', 'HWHJEA', 'HWHAJE', 'HWHAEJ', 'HWHEJA', 'HWHEAJ', 'HWEJAH', 'HWEJHA', 'HWEAJH', 'HWEAHJ', 'HWEHJA', 'HWEHAJ', 'HEJAHW', 'HEJAWH', 'HEJHAW', 'HEJHWA', 'HEJWAH', 'HEJWHA', 'HEAJHW', 'HEAJWH', 'HEAHJW', 'HEAHWJ', 'HEAWJH', 'HEAWHJ', 'HEHJAW', 'HEHJWA', 'HEHAJW', 'HEHAWJ', 'HEHWJA', 'HEHWAJ', 'HEWJAH', 'HEWJHA', 'HEWAJH', 'HEWAHJ', 'HEWHJA', 'HEWHAJ']\n"
     ]
    }
   ],
   "source": [
    "from itertools import permutations\n",
    "# enter a word\n",
    "word = inputString('Enter a word ')\n",
    "# using list comprehension\n",
    "permutaties = [''.join(p) for p in permutations(word)]\n",
    "print(len(permutaties))\n",
    "print(permutaties)\n"
   ]
  },
  {
   "cell_type": "markdown",
   "metadata": {},
   "source": [
    "## Recursief"
   ]
  },
  {
   "cell_type": "code",
   "execution_count": 7,
   "metadata": {},
   "outputs": [],
   "source": [
    "def permutations(string, step = 0):\n",
    "    if step == len(string):\n",
    "        print(''.join(string))\n",
    "    # restant van 'word' rechts van 'step' dat nog verwisseld moet worden\n",
    "    for i in range(step, len(string)):\n",
    "        # list comprehension \n",
    "        string_copy = [char for char in string]\n",
    "        # wissel huidige list index 'i' met 'step'\n",
    "        string_copy[step], string_copy[i] = string_copy[i], string_copy[step]\n",
    "        permutations(string_copy, step + 1)"
   ]
  },
  {
   "cell_type": "code",
   "execution_count": 8,
   "metadata": {},
   "outputs": [
    {
     "name": "stdout",
     "output_type": "stream",
     "text": [
      "Enter a word KRAB\n",
      "KRAB\n",
      "KRBA\n",
      "KARB\n",
      "KABR\n",
      "KBAR\n",
      "KBRA\n",
      "RKAB\n",
      "RKBA\n",
      "RAKB\n",
      "RABK\n",
      "RBAK\n",
      "RBKA\n",
      "ARKB\n",
      "ARBK\n",
      "AKRB\n",
      "AKBR\n",
      "ABKR\n",
      "ABRK\n",
      "BRAK\n",
      "BRKA\n",
      "BARK\n",
      "BAKR\n",
      "BKAR\n",
      "BKRA\n"
     ]
    }
   ],
   "source": [
    "word = inputString('Enter a word ')\n",
    "permutations(word)"
   ]
  },
  {
   "cell_type": "code",
   "execution_count": null,
   "metadata": {},
   "outputs": [],
   "source": []
  }
 ],
 "metadata": {
  "kernelspec": {
   "display_name": "Python 3",
   "language": "python",
   "name": "python3"
  },
  "language_info": {
   "codemirror_mode": {
    "name": "ipython",
    "version": 3
   },
   "file_extension": ".py",
   "mimetype": "text/x-python",
   "name": "python",
   "nbconvert_exporter": "python",
   "pygments_lexer": "ipython3",
   "version": "3.8.3"
  }
 },
 "nbformat": 4,
 "nbformat_minor": 4
}
